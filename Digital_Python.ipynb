{
  "nbformat": 4,
  "nbformat_minor": 0,
  "metadata": {
    "colab": {
      "name": "Digital_Python.ipynb",
      "private_outputs": true,
      "provenance": [],
      "include_colab_link": true
    },
    "kernelspec": {
      "display_name": "Python 3",
      "language": "python",
      "name": "python3"
    },
    "language_info": {
      "codemirror_mode": {
        "name": "ipython",
        "version": 3
      },
      "file_extension": ".py",
      "mimetype": "text/x-python",
      "name": "python",
      "nbconvert_exporter": "python",
      "pygments_lexer": "ipython3",
      "version": "3.8.3"
    }
  },
  "cells": [
    {
      "cell_type": "markdown",
      "metadata": {
        "id": "view-in-github",
        "colab_type": "text"
      },
      "source": [
        "<a href=\"https://colab.research.google.com/github/anathnath/pygame-physics/blob/master/Digital_Python.ipynb\" target=\"_parent\"><img src=\"https://colab.research.google.com/assets/colab-badge.svg\" alt=\"Open In Colab\"/></a>"
      ]
    },
    {
      "cell_type": "markdown",
      "metadata": {
        "id": "ruOH8wQUgaml"
      },
      "source": [
        "\n"
      ]
    },
    {
      "cell_type": "markdown",
      "metadata": {
        "id": "5y8hr7qbgamp"
      },
      "source": [
        "# Digital and Electrical Circuit Analysis\n",
        "# By\n",
        "# Dr. Anathnath Ghosh"
      ]
    },
    {
      "cell_type": "markdown",
      "metadata": {
        "id": "DAMrevt44BRn"
      },
      "source": [
        "# References:\n",
        "## LINK: https://www.geeksforgeeks.org/logic-gates-in-python/\n",
        "## Link: https://github.com/BinPy/BinPy\n",
        "## Link: https://github.com/qqii/logic-gate-simulator"
      ]
    },
    {
      "cell_type": "markdown",
      "metadata": {
        "id": "WyAOc-Tygamr"
      },
      "source": [
        "<a id=\"1\"></a>\n",
        "\n",
        "<h1 style=\"background-color:green;font-family:newtimeroman;font-size:250%;text-align:center;border-radius: 15px 50px;\">Libraires And Utilities</h1>\n"
      ]
    },
    {
      "cell_type": "code",
      "metadata": {
        "id": "DEOnL3aEgamr"
      },
      "source": [
        "import numpy as np\n",
        "from lcapy import Circuit\n",
        "cct = Circuit()\n",
        "from matplotlib.pyplot import figure, savefig\n",
        "from ipywidgets import interact\n",
        " "
      ],
      "execution_count": null,
      "outputs": []
    },
    {
      "cell_type": "markdown",
      "metadata": {
        "id": "DLBXcCgWgamr"
      },
      "source": [
        "Link: https://www.allaboutcircuits.com/textbook/reference/chpt-7/example-circuits-and-netlists/"
      ]
    },
    {
      "cell_type": "markdown",
      "metadata": {
        "id": "RX5iVZOKNHH-"
      },
      "source": [
        "## OR gate:\n",
        "![](https://cdn.journaldev.com/wp-content/uploads/2020/07/or_logic_gates.png.webp)"
      ]
    },
    {
      "cell_type": "code",
      "metadata": {
        "id": "mY1PPCvD2b5n"
      },
      "source": [
        "# Function to simulate OR Gate\n",
        "def OR(A, B):\n",
        "    return A | B    \n",
        " \n",
        "print(\"Output of 0 OR 0 is\", OR(0, 0))\n",
        "print(\"Output of 0 OR 1 is\", OR(0, 1))\n",
        "print(\"Output of 1 OR 0 is\", OR(1, 0))\n",
        "print(\"Output of 1 OR 1 is\", OR(1, 1))  "
      ],
      "execution_count": null,
      "outputs": []
    },
    {
      "cell_type": "markdown",
      "metadata": {
        "id": "B9-XBb8sNT51"
      },
      "source": [
        "## AND Gate\n",
        "\n",
        "![](https://cdn.journaldev.com/wp-content/uploads/2020/07/and_logic_gates.png.webp)"
      ]
    },
    {
      "cell_type": "code",
      "metadata": {
        "id": "UTd1UhtE2jSm"
      },
      "source": [
        "# Function to simulate AND Gate\n",
        "def AND(A, B):\n",
        "    return A & B    \n",
        " \n",
        "print(\"Output of 0 AND 0 is\", AND(0, 0))\n",
        "print(\"Output of 0 AND 1 is\", AND(0, 1))\n",
        "print(\"Output of 1 AND 0 is\", AND(1, 0))\n",
        "print(\"Output of 1 AND 1 is\", AND(1, 1)) "
      ],
      "execution_count": null,
      "outputs": []
    },
    {
      "cell_type": "code",
      "metadata": {
        "id": "-U26b2AGAL-d"
      },
      "source": [
        ""
      ],
      "execution_count": null,
      "outputs": []
    },
    {
      "cell_type": "markdown",
      "metadata": {
        "id": "1tqVumMVNgZ_"
      },
      "source": [
        "## NOT Gate:\n",
        "![](https://cdn.journaldev.com/wp-content/uploads/2020/07/not_logic_gate.png.webp)"
      ]
    },
    {
      "cell_type": "code",
      "metadata": {
        "id": "LDganRaY2qNn"
      },
      "source": [
        "# Function to simulate NOT Gate\n",
        "def NOT(A):\n",
        "    return ~A+2\n",
        " \n",
        "print(\"Output of NOT 0 is\", NOT(0))\n",
        "print(\"Output of NOT 1 is\", NOT(1))"
      ],
      "execution_count": null,
      "outputs": []
    },
    {
      "cell_type": "markdown",
      "metadata": {
        "id": "JdTFED8JNsvT"
      },
      "source": [
        "## NAND Gate\n",
        "![](https://cdn.journaldev.com/wp-content/uploads/2020/07/nand_logic_gate.png.webp)"
      ]
    },
    {
      "cell_type": "code",
      "metadata": {
        "id": "YzxRVTsR2qGR"
      },
      "source": [
        "# Function to simulate NAND Gate\n",
        "def AND(A, B):\n",
        "    return A & B;   \n",
        " \n",
        "# Function to simulate NOT Gate\n",
        "def NOT(A):\n",
        "    return ~A+2\n",
        " \n",
        "# Function to simulate NAND Gate\n",
        "def NAND(A, B):\n",
        "    return NOT(AND(A, B))\n",
        " \n",
        " \n",
        "print(\"Output of 0 NAND 0 is\", NAND(0, 0))\n",
        "print(\"Output of 0 NAND 1 is\", NAND(0, 1))\n",
        "print(\"Output of 1 NAND 0 is\", NAND(1, 0))\n",
        "print(\"Output of 1 NAND 1 is\", NAND(1, 1))  \n"
      ],
      "execution_count": null,
      "outputs": []
    },
    {
      "cell_type": "markdown",
      "metadata": {
        "id": "aNxeDIw0N4z6"
      },
      "source": [
        "## NOR Gate\n",
        "![](https://cdn.journaldev.com/wp-content/uploads/2020/07/nor_logic_gate.png.webp)"
      ]
    },
    {
      "cell_type": "code",
      "metadata": {
        "id": "0oBW6dBm2p-x"
      },
      "source": [
        "# Function to calculate NOR Gate\n",
        "def OR(A, B):\n",
        "    return A | B;   \n",
        " \n",
        "# Function to simulate NOT Gate\n",
        "def NOT(A):\n",
        "    return ~A+2\n",
        " \n",
        "# Function to simulate NOR Gate\n",
        "def NOR(A, B):\n",
        "    return NOT(OR(A, B))\n",
        " \n",
        " \n",
        "print(\"Output of 0 NOR 0 is\", NOR(0, 0))\n",
        "print(\"Output of 0 NOR 1 is\", NOR(0, 1))\n",
        "print(\"Output of 1 NOR 0 is\", NOR(1, 0))\n",
        "print(\"Output of 1 NOR 1 is\", NOR(1, 1)) "
      ],
      "execution_count": null,
      "outputs": []
    },
    {
      "cell_type": "code",
      "metadata": {
        "id": "7SYnjVCkGafW"
      },
      "source": [
        ""
      ],
      "execution_count": null,
      "outputs": []
    },
    {
      "cell_type": "code",
      "metadata": {
        "id": "aXeHZxyN1tmZ"
      },
      "source": [
        "# Python3 program to illustrate\n",
        "# working of NOR gate\n",
        "\n",
        "def NOR(a, b):\n",
        "\tif(a == 0) and (b == 0):\n",
        "\t\treturn 1\n",
        "\telif(a == 0) and (b == 1):\n",
        "\t\treturn 0\n",
        "\telif(a == 1) and (b == 0):\n",
        "\t\treturn 0\n",
        "\telif(a == 1) and (b == 1):\n",
        "\t\treturn 0\n",
        "\n",
        "# Driver code\n",
        "if __name__=='__main__':\n",
        "\tprint(NOR(0, 0))\n",
        "\n",
        "\tprint(\" | NOR Truth Table | Result |\")\n",
        "\tprint(\" A = False, B = False | A NOR B =\",NOR(False,False),\" | \")\n",
        "\tprint(\" A = False, B = True | A NOR B =\",NOR(False,True),\" | \")\n",
        "\tprint(\" A = True, B = False | A NOR B =\",NOR(True,False),\" | \")\n",
        "\tprint(\" A = True, B = True | A NOR B =\",NOR(True,True),\" | \")\n"
      ],
      "execution_count": null,
      "outputs": []
    },
    {
      "cell_type": "markdown",
      "metadata": {
        "id": "zKI6l-xaOLys"
      },
      "source": [
        "## XNOR Gate\n",
        "![](https://cdn.journaldev.com/wp-content/uploads/2020/07/xor_logic_gate.png.webp)"
      ]
    },
    {
      "cell_type": "code",
      "metadata": {
        "id": "c3m82c_u19uU"
      },
      "source": [
        "# Python3 program to illustrate\n",
        "# working of Not gate\n",
        "\n",
        "def XNOR(a,b):\n",
        "\tif(a == b):\n",
        "\t\treturn 1\n",
        "\telse:\n",
        "\t\treturn 0\n",
        "# Driver code\n",
        "if __name__=='__main__':\n",
        "\tprint(XNOR(1,1))\n",
        "\n",
        "\tprint(\" | XNOR Truth Table | Result |\")\n",
        "\tprint(\" A = False, B = False | A XNOR B =\",XNOR(False,False),\" | \")\n",
        "\tprint(\" A = False, B = True | A XNOR B =\",XNOR(False,True),\" | \")\n",
        "\tprint(\" A = True, B = False | A XNOR B =\",XNOR(True,False),\" | \")\n",
        "\tprint(\" A = True, B = True | A XNOR B =\",XNOR(True,True),\" | \")\n"
      ],
      "execution_count": null,
      "outputs": []
    },
    {
      "cell_type": "markdown",
      "metadata": {
        "id": "O2zwh_aGOaRU"
      },
      "source": [
        "## Half Adder\n",
        "![](http://openbookproject.net/courses/python4fun/_images/fig4.gif)"
      ]
    },
    {
      "cell_type": "code",
      "metadata": {
        "id": "H0qutWNA2_1s"
      },
      "source": [
        "# Function to print sum and carry\n",
        "# Half Adder\n",
        "def getResult(A, B):\n",
        "\t\n",
        "\t# Calculating value of sum\n",
        "\tSum = A ^ B\n",
        "\t\n",
        "\t# Calculating value of Carry\n",
        "\tCarry = A & B\n",
        "\t\n",
        "\t# printing the values\n",
        "\tprint(\"Sum \", Sum)\n",
        "\tprint(\"Carry\", Carry)\n",
        "\n",
        "\n",
        "# Driver code\n",
        "A = 0\n",
        "B = 1\n",
        "\n",
        "# passing two inputs of halfadder as arguements to get result function\n",
        "getResult(A, B)\n"
      ],
      "execution_count": null,
      "outputs": []
    },
    {
      "cell_type": "markdown",
      "metadata": {
        "id": "BmPYmu9dOuDn"
      },
      "source": [
        "## Full Adder\n",
        "![](http://openbookproject.net/courses/python4fun/_images/fig5.gif)"
      ]
    },
    {
      "cell_type": "code",
      "metadata": {
        "id": "h7W3x93A2_m8"
      },
      "source": [
        "# To use these functions, you can run python and then import like -\n",
        "# from binary_adder import *\n",
        "#\n",
        "# These methods carry out binary addition via 'digital logic'\n",
        "# This is really what happens at the logic circuit level.\n",
        "# So, this is a pretty abstract use of programming to illustrate\n",
        "# what happens on silicon using code many, many, levels above that!\n",
        "#\n",
        "\n",
        "# A binary half adder -- performing addition only using logic operators,\n",
        "# A half adder simply adds two bits and outputs a sum and carry\n",
        "#\n",
        "def half_adder(a, b):\n",
        "    # ^ is logical xor in python\n",
        "    sum = a ^ b\n",
        "    carry = a and b\n",
        "    return carry,sum\n",
        "\n",
        "# A binary full adder\n",
        "# The full adder can add 3 bits (can handle an incoming carry)\n",
        "# Also returns a sum and carry\n",
        "#\n",
        "def full_adder(carry_in, a, b):\n",
        "    carry1,sum1 = half_adder(carry_in,a)\n",
        "    carry2,sum = half_adder(sum1,b)\n",
        "    carry = carry1 or carry2\n",
        "    return carry,sum\n",
        "\n",
        "# This method virtually chains together binary full adders in order\n",
        "# to add binary numbers of arbitrary size.\n",
        "#\n",
        "# a and b are expected to be strings representing binary integers.\n",
        "# \n",
        "#\n",
        "def binary_adder(a,b):\n",
        "    an = len(a)\n",
        "    bn = len(b)\n",
        "\n",
        "    # Convert strings to list of bits -- very functional syntax here\n",
        "    al = list(int(x,2) for x in list(a))\n",
        "    bl = list(int(x,2) for x in list(b))\n",
        "\n",
        "    # Pad smaller list with 0's\n",
        "    dif = an - bn\n",
        "    # more digits in a than b\n",
        "    if dif > 0:\n",
        "        for i in range(dif):\n",
        "            bl.insert(0,0)\n",
        "    else:\n",
        "        for i in range(abs(dif)):\n",
        "            al.insert(0,0)\n",
        "\n",
        "    print(al)\n",
        "    print(bl)\n",
        "            \n",
        "    result = []\n",
        "    carry = 0\n",
        "    # Iterate through list right to left, calling full_adder each time and\n",
        "    # inserting the sum each time\n",
        "    for i in range(len(al)-1,-1,-1):\n",
        "        carry,sum = full_adder(carry,al[i],bl[i])\n",
        "        result.insert(0,sum)\n",
        "        print(result)\n",
        "    result.insert(0,carry)\n",
        "\n",
        "    return ''.join(str(x) for x in result)\n",
        "\n",
        "def test_binary_adder(a,b):\n",
        "    result = binary_adder(a,b)\n",
        "    #print(result)\n",
        "    if (int(a,2) + int(b,2)) == int(result,2):\n",
        "        print(\"Excellent it Really works\")\n",
        "    else:\n",
        "        print(\"FAIL!!\")\n",
        "    print(str(int(a,2)) + \" + \" + str(int(b,2)) + \" = \" + str(int(result,2)))"
      ],
      "execution_count": null,
      "outputs": []
    },
    {
      "cell_type": "code",
      "metadata": {
        "id": "jcxTMQsYHSY_"
      },
      "source": [
        "test_binary_adder('1011','0110')"
      ],
      "execution_count": null,
      "outputs": []
    },
    {
      "cell_type": "code",
      "metadata": {
        "id": "dXyKuYsfQKQr"
      },
      "source": [
        "# Convert strings to list of bits -- very functional syntax here\n",
        "a=['1001']\n",
        "b=['1100']\n",
        "al = list(int(x,2) for x in list(a))\n",
        "bl = list(int(x,2) for x in list(b))\n",
        "bl"
      ],
      "execution_count": null,
      "outputs": []
    },
    {
      "cell_type": "markdown",
      "metadata": {
        "id": "cDYUTLu76KPV"
      },
      "source": [
        "## Link: https://stackoverflow.com/\n",
        "## Link: https://circuitverse.org/simulator"
      ]
    },
    {
      "cell_type": "code",
      "metadata": {
        "id": "2tnt4I_i5ly0"
      },
      "source": [
        "print(\"Logic Gate Calculator\")\n",
        "\n",
        "\n",
        "def AND(a, b):  # AND Gate\n",
        "    a = int(a)\n",
        "    b = int(b)\n",
        "    if a == 1 and b == 1:  # AND Gate logic\n",
        "        return 1\n",
        "    else:\n",
        "        return 0\n",
        "\n",
        "\n",
        "def NAND(a, b):  # NAND Gate\n",
        "    a = int(a)\n",
        "    b = int(b)\n",
        "    if a == 1 and b == 1:  # NAND Gate logic\n",
        "        return 0\n",
        "    elif a == 1 and b == 0:\n",
        "        return 0\n",
        "    elif a == 0 and b == 1:\n",
        "        return 0\n",
        "    else:\n",
        "        return 1\n",
        "\n",
        "\n",
        "def OR(a, b):  # OR Gate\n",
        "    a = int(a)\n",
        "    b = int(b)\n",
        "    if a == 1:  # OR Gate Logic\n",
        "        return 1\n",
        "    elif b == 1:\n",
        "        return 1\n",
        "    else:\n",
        "        return 0\n",
        "\n",
        "\n",
        "def NOR(a, b):  # NOR Gate\n",
        "    a = int(a)\n",
        "    b = int(b)\n",
        "    if a == 1 and b == 0:  # NOR Gate Logic\n",
        "        return 1\n",
        "    elif a == 0 and b == 1:\n",
        "        return 1\n",
        "    elif a == 0 and b == 0:\n",
        "        return 1\n",
        "    else:\n",
        "        return 0\n",
        "\n",
        "\n",
        "def XOR(a, b):  # XOR Gate\n",
        "    a = int(a)\n",
        "    b = int(b)\n",
        "    if a == 1 and b == 0:  # XOR Gate Logic\n",
        "        return 1\n",
        "    elif a == 1 and b == 1:\n",
        "        return 1\n",
        "    else:\n",
        "        return 0\n",
        "\n",
        "\n",
        "def main():  # The main program\n",
        "    run = True\n",
        "    while run:  # While loop\n",
        "        question = input(\"What type of gate do you want to use OR, AND, NOR, or NAND or (Q)uit\")  # Logic Gate chooser\n",
        "        if question == \"AND\" or question == \"and\" or question == \"And\":  # If the user selects AND\n",
        "            a = input(\"Enter value for input 1 (1 or 0):\")  # Getting the Logic Gate's 1st input\n",
        "            b = input(\"Enter value for input 2 (1 or 0):\")  # Getting the Logic Gate's 2nd input\n",
        "            x = AND(a, b)  # Calling the AND Function\n",
        "            print(\"The output will be:\", x)  # Output result\n",
        "        elif question == \"OR\" or question == \"or\" or question == \"Or\":  # If the user selects OR\n",
        "            a = input(\"Enter value for input 1 (1 or 0):\")  # Getting the Logic Gate's 1st input\n",
        "            b = input(\"Enter value for input 2 (1 or 0):\")  # Getting the Logic Gate's 2nd input\n",
        "            x = OR(a, b)  # Calling the OR Function\n",
        "            print(\"The output will be:\", x)  # Output result\n",
        "        elif question == \"NOR\" or question == \"nor\" or question == \"Nor\":  # If the user selects NOR\n",
        "            a = input(\"Enter value for input 1 (1 or 0):\")  # Getting the Logic Gate's 1st input\n",
        "            b = input(\"Enter value for input 2 (1 or 0):\")  # Getting the Logic Gate's 2nd input\n",
        "            x = NOR(a, b)  # Calling the NOR function\n",
        "            print(\"The output will be:\", x)  # Output result\n",
        "        elif question == \"NAND\" or question == \"nand\" or question == \"Nand\":  # If the user selects NAND\n",
        "            a = input(\"Enter value for input 1 (1 or 0):\")  # Getting the Logic Gate's 1st input\n",
        "            b = input(\"Enter value for input 2 (1 or 0):\")  # Getting the Logic Gate's 2nd input\n",
        "            x = NAND(a, b)  # Calling the NAND function\n",
        "            print(\"The output will be:\", x)  # Output result\n",
        "        elif question == \"XOR\" or question == \"xor\" or question == \"Xor\":  # If the user selects XOR\n",
        "            a = input(\"Enter value for input 1 (1 or 0):\")  # Getting the Logic Gate's 1st input\n",
        "            b = input(\"Enter value for input 2 (1 or 0):\")  # Getting the Logic Gate's 2nd input\n",
        "            x = XOR(a, b)  # Calling the XOR function\n",
        "            print(\"The output will be:\", x)  # Output result\n",
        "        elif question == \"Q\" or question == \"q\":  # Quiting the program\n",
        "            run = False\n",
        "        else:\n",
        "            print(\"Please enter one of the shown logic gates\")  # Error handling\n",
        "\n",
        "\n",
        "main()"
      ],
      "execution_count": null,
      "outputs": []
    },
    {
      "cell_type": "code",
      "metadata": {
        "id": "keyuzJzX0MFC"
      },
      "source": [
        "!pip install schemdraw"
      ],
      "execution_count": null,
      "outputs": []
    },
    {
      "cell_type": "code",
      "metadata": {
        "id": "G7Imr8iq1MTZ"
      },
      "source": [
        "!pip install schemdraw[matplotlib]"
      ],
      "execution_count": null,
      "outputs": []
    },
    {
      "cell_type": "code",
      "metadata": {
        "id": "aDyS-Hx3UO6u"
      },
      "source": [
        "!pip install lcapy"
      ],
      "execution_count": null,
      "outputs": []
    },
    {
      "cell_type": "code",
      "metadata": {
        "id": "trwzN3aLVOe9"
      },
      "source": [
        "from lcapy import Circuit\n",
        " \n",
        "cct = Circuit()\n",
        "cct.add(\"\"\"\n",
        "Vi 1 0_1 step 20; down\n",
        "C 1 2; right, size=1.5\n",
        "R 2 0; down\n",
        "W 0_1 0; right\n",
        "W 0 0_2; right, size=0.5\n",
        "P1 2_2 0_2; down\n",
        "W 2 2_2;right, size=0.5\"\"\")\n",
        " \n",
        "cct.draw(style='american')"
      ],
      "execution_count": null,
      "outputs": []
    },
    {
      "cell_type": "code",
      "metadata": {
        "id": "e3ynffCcVaxl"
      },
      "source": [
        "from lcapy import R, C, L\n",
        " \n",
        "cct2= (R(1e6) + L(2e-3)) | C(3e-6)\n",
        "#For some reason, the style= argument is not respected\n",
        "cct2.draw()"
      ],
      "execution_count": null,
      "outputs": []
    },
    {
      "cell_type": "code",
      "metadata": {
        "id": "6zB4Pv1D0FRa"
      },
      "source": [
        "import numpy as np\n",
        "from lcapy import Circuit\n",
        "cct = Circuit()\n",
        "from matplotlib.pyplot import figure, savefig\n",
        "from ipywidgets import interact\n",
        " \n",
        "@interact(R=(1,10,1))\n",
        "def response(R=1):\n",
        "    cct = Circuit()\n",
        " \n",
        "    cct.add('V 0_1 0 step 10;down')\n",
        "    cct.add('L 0_1 0_2 1e-3;right')\n",
        "    cct.add('C 0_2 1 1e-4;right')\n",
        "    cct.add('R 1 0_4 {R};down'.format(R=R))\n",
        "    cct.add('W 0_4 0; left')\n",
        " \n",
        "    t = np.linspace(0, 0.01, 1000)\n",
        "    vr = cct.R.v.evaluate(t)\n",
        " \n",
        "    fig = figure()\n",
        "    #Note that we can add Greek symbols from LaTex into the figure text\n",
        "    ax = fig.add_subplot(111, title='Resistor voltage (R={}$\\Omega$)'.format(R))\n",
        "    ax.plot(t, vr, linewidth=2)\n",
        "    ax.set_xlabel('Time (s)')\n",
        "    ax.set_ylabel('Resistor voltage (V)')\n",
        "    ax.grid(True)\n",
        "     \n",
        "    cct.draw()\n"
      ],
      "execution_count": null,
      "outputs": []
    },
    {
      "cell_type": "code",
      "metadata": {
        "id": "EYIAuluK1isX"
      },
      "source": [
        "from lcapy import Circuit\n",
        "a = Circuit(\"\"\"\n",
        "V 1 0 {v(t)}; down\n",
        "R1 1 2; right\n",
        "L 2 3; right=1.5, i={i_L}\n",
        "R2 3 0_3; down=1.5, i={i_{R2}}, v={v_{R2}}\n",
        "W 0 0_3; right\n",
        "W 3 3_a; right\n",
        "C 3_a 0_4; down, i={i_C}, v={v_C}\n",
        "W 0_3 0_4; right\"\"\")\n",
        "a.draw()\n"
      ],
      "execution_count": null,
      "outputs": []
    },
    {
      "cell_type": "code",
      "metadata": {
        "id": "dKVuze4jgam0"
      },
      "source": [
        "# Circuit 1 definiton\n",
        "from lcapy import Circuit\n",
        "c1 = Circuit()  # New circuit\n"
      ],
      "execution_count": null,
      "outputs": []
    },
    {
      "cell_type": "code",
      "metadata": {
        "id": "Dej5NBmngam0"
      },
      "source": [
        "# Link: http://lcapy.elec.canterbury.ac.nz/schematics.html#netlists\n",
        "from lcapy import Circuit\n",
        "a = Circuit('''\n",
        "Q1 3 0 2 pnp; up\n",
        "R1 1 2;right\n",
        "R2 4 0_4;down\n",
        "P1 1 0_1;down\n",
        "W 0_1 0;right\n",
        "W 0 0_4;right\n",
        "W 3 4;right''')\n",
        "\n",
        "a.draw()"
      ],
      "execution_count": null,
      "outputs": []
    },
    {
      "cell_type": "code",
      "metadata": {
        "id": "AIEcFuTZgam0"
      },
      "source": [
        "# Inverting OPAMP Amplifier\n",
        "from lcapy import Circuit\n",
        "a = Circuit('''\n",
        "P1 1 0_1; down\n",
        "R1 1 2; right\n",
        "R2 2_1 3_1; right\n",
        "E1 3_2 0_3 opamp 2_0 2 A; mirror\n",
        "W 0_1 0; right\n",
        "W 2_0 0; down\n",
        "W 3_2 3; right\n",
        "W 0 0_3; right\n",
        "P2 3 0_3; down\n",
        "W 2_1 2; down\n",
        "W 3_1 3_2; down\n",
        "; draw_nodes=connections''')\n",
        "a.draw()"
      ],
      "execution_count": null,
      "outputs": []
    },
    {
      "cell_type": "code",
      "metadata": {
        "id": "wp0KXnf_1jGQ"
      },
      "source": [
        "import numpy as np\n",
        "from lcapy import Circuit\n",
        "cct = Circuit()\n",
        "from matplotlib.pyplot import figure, savefig\n",
        "from ipywidgets import interact\n",
        " \n",
        "@interact(R=(1,10,1))\n",
        "def response(R=1):\n",
        "    cct = Circuit()\n",
        " \n",
        "    cct.add('V 0_1 0 step 10;down')\n",
        "    cct.add('L 0_1 0_2 1e-3;right')\n",
        "    cct.add('C 0_2 1 1e-4;right')\n",
        "    cct.add('R 1 0_4 {R};down'.format(R=R))\n",
        "    cct.add('W 0_4 0; left')\n",
        " \n",
        "    t = np.linspace(0, 0.01, 1000)\n",
        "    vr = cct.R.v.evaluate(t)\n",
        "    vr1=cct.L.v.evaluate(t)\n",
        "    vr2=cct.C.v.evaluate(t)\n",
        " \n",
        "    fig = figure()\n",
        "    #Note that we can add Greek symbols from LaTex into the figure text\n",
        "    ax = fig.add_subplot(111, title='Resistor voltage (R={}$\\Omega$)'.format(R))\n",
        "    ax.plot(t, vr, linewidth=2)\n",
        "    ax.plot(t, vr1, linewidth=2)\n",
        "    ax.plot(t, vr2, linewidth=2)\n",
        "    ax.set_xlabel('Time (s)')\n",
        "    ax.set_ylabel('Resistor voltage (V)')\n",
        "    ax.grid(True)\n",
        "     \n",
        "    cct.draw()\n"
      ],
      "execution_count": null,
      "outputs": []
    },
    {
      "cell_type": "code",
      "metadata": {
        "id": "RjikAJIQASQP"
      },
      "source": [
        "from lcapy import Circuit,R,L,C,t\n",
        "cct = Circuit()\n",
        "cct.add(\"\"\"\n",
        "Vi 1 0_1 step 20; down\n",
        "C 1 2; right, size=1.5\n",
        "R 2 0; down\n",
        "W 0_1 0; right\n",
        "W 0 0_2; right, size=0.5\n",
        "P1 2_2 0_2; down\n",
        "W 2 2_2;right, size=0.5\"\"\")\n",
        "cct.draw()\n"
      ],
      "execution_count": null,
      "outputs": []
    },
    {
      "cell_type": "code",
      "metadata": {
        "id": "UcaF1UI9gam1"
      },
      "source": [
        "from lcapy import Circuit\n",
        "cct = Circuit()\n",
        "cct.add(\"\"\"\n",
        "Vi 1 0_1 step 20; down\n",
        "C 1 2; right, size=1.5\n",
        "R 2 0; down\n",
        "W 0_1 0; right\n",
        "W 0 0_2; right, size=0.5\n",
        "P1 2_2 0_2; down\n",
        "W 2 2_2;right, size=0.5\"\"\")\n",
        "cct.draw()"
      ],
      "execution_count": null,
      "outputs": []
    },
    {
      "cell_type": "code",
      "metadata": {
        "id": "01m9YsFCBqP2"
      },
      "source": [
        "#Create a file containing a circuit netlist\n",
        "sch='''\n",
        "Vi 1 0_1 {sin(t)}; down\n",
        "R1 1 2 22e3; right, size=1.5\n",
        "R2 2 0 1e3; down\n",
        "P1 2_2 0_2; down, v=V_{o}\n",
        "W 2 2_2; right, size=1.5\n",
        "W 0_1 0; right\n",
        "W 0 0_2; right\n",
        "'''\n",
        " \n",
        "fn=\"voltageDivider.sch\"\n",
        "with open(fn, \"w\") as text_file:\n",
        "    text_file.write(sch)\n",
        " \n",
        "#Create a circuit from a netlist file\n",
        "cct = Circuit(fn)\n",
        "cct.draw()\n",
        "import numpy as np\n",
        "from lcapy import Circuit\n",
        "cct = Circuit()\n",
        "from matplotlib.pyplot import figure, savefig\n",
        "from ipywidgets import interact\n",
        " \n",
        "@interact(R2=(1,10,1))\n",
        "def response(R2):\n",
        "    cct = Circuit(fn)\n",
        "       \n",
        "    t = np.linspace(0, 10, 1000)\n",
        "    vr = cct.R2.v.evaluate(t)\n",
        "    \n",
        "    fig = figure()\n",
        "    #Note that we can add Greek symbols from LaTex into the figure text\n",
        "    ax = fig.add_subplot(111, title='Resistor voltage (R2={}$\\Omega$)'.format(R2))\n",
        "    ax.plot(t, vr, linewidth=2)\n",
        "    ax.set_xlabel('Time (s)')\n",
        "    ax.set_ylabel('Resistor voltage (V)')\n",
        "    ax.grid(True)\n",
        "     \n",
        "    cct.draw()\n"
      ],
      "execution_count": null,
      "outputs": []
    },
    {
      "cell_type": "code",
      "metadata": {
        "id": "Ks5NDv4Kgam2"
      },
      "source": [
        "print(cct.netlist())"
      ],
      "execution_count": null,
      "outputs": []
    },
    {
      "cell_type": "code",
      "metadata": {
        "id": "XWygmiuhgam3"
      },
      "source": [
        "#Create a file containing a circuit netlist\n",
        "sch='''\n",
        "Vi 1 0_1 {cos(t)}; down\n",
        "R1 1 2 22e3; right, size=1.5\n",
        "R2 2 0 1e3; down\n",
        "P1 2_2 0_2; down, v=V_{o}\n",
        "W 2 2_2; right, size=1.5\n",
        "W 0_1 0; right\n",
        "W 0 0_2; right\n",
        "'''\n",
        " \n",
        "fn=\"voltageDivider.sch\"\n",
        "with open(fn, \"w\") as text_file:\n",
        "    text_file.write(sch)\n",
        " \n",
        "#Create a circuit from a netlist file\n",
        "cct = Circuit(fn)\n",
        "cct.draw()\n",
        "import numpy as np\n",
        "t = np.linspace(0, 5, 1000)\n",
        "vr = cct.R2.v.evaluate(t)\n",
        "from matplotlib.pyplot import figure, savefig\n",
        "import matplotlib.pyplot as plt\n",
        "plt.style.use('fivethirtyeight')\n",
        "fig = figure()\n",
        "ax = fig.add_subplot(111, title='Resistor R2 voltage')\n",
        "ax.plot(t, vr, linewidth=2)\n",
        "ax.plot(t, cct.Vi.v.evaluate(t), linewidth=2, color='red')\n",
        "#ax.plot(t, cct.R1.v.evaluate(t), linewidth=2, color='green')\n",
        "ax.set_xlabel('Time (s)')\n",
        "ax.set_ylabel('Resistor voltage (V)');\n",
        "\n"
      ],
      "execution_count": null,
      "outputs": []
    },
    {
      "cell_type": "code",
      "metadata": {
        "id": "RN3bScXFgam3"
      },
      "source": [
        "from lcapy import Circuit\n",
        "cct = Circuit()\n",
        "cct.add(\"\"\"\n",
        "Vi 1 0_1 step 20; down\n",
        "C 1 2; right, size=1.5\n",
        "R 2 0; down\n",
        "W 0_1 0; right\n",
        "W 0 0_2; right, size=0.5\n",
        "P1 2_2 0_2; down\n",
        "W 2 2_2;right, size=0.5\"\"\")\n",
        "cct.draw()"
      ],
      "execution_count": null,
      "outputs": []
    },
    {
      "cell_type": "code",
      "metadata": {
        "id": "5g6aNxUrgam3"
      },
      "source": [
        "import numpy as np\n",
        "from lcapy import Circuit,Vstep\n",
        "from lcapy import R,L,C,t\n",
        "cct = Circuit()\n",
        "from matplotlib.pyplot import figure, savefig\n",
        "from ipywidgets import interact\n",
        "@interact(R1=(1,10,1),L1=(.01,1),C1=(.01,.5))\n",
        "def damped(R1=0.1,L1=0.2,C1=0.4):\n",
        "    dmp=Vstep(10)+R(R1)+L(L1)+C(C1)\n",
        "    \n",
        "    dmp.draw()\n",
        "    \n",
        "\n"
      ],
      "execution_count": null,
      "outputs": []
    },
    {
      "cell_type": "code",
      "metadata": {
        "id": "cRf0sHgkgam4"
      },
      "source": [
        "!pip install SchemDraw"
      ],
      "execution_count": null,
      "outputs": []
    },
    {
      "cell_type": "code",
      "metadata": {
        "id": "uyEaen8pgam4"
      },
      "source": [
        ""
      ],
      "execution_count": null,
      "outputs": []
    },
    {
      "cell_type": "code",
      "metadata": {
        "id": "6K14UMgdgam4"
      },
      "source": [
        ""
      ],
      "execution_count": null,
      "outputs": []
    },
    {
      "cell_type": "code",
      "metadata": {
        "id": "y3bVyr2jgam4"
      },
      "source": [
        "from lcapy import Vstep, R, L, C, t\n",
        "from matplotlib.pyplot import savefig\n",
        "from numpy import linspace\n",
        "\n",
        "a = Vstep(10) + R(0.1) + C(0.4,0) + L(0.2, 0)\n",
        "\n",
        "vt = linspace(0, 10, 1000)\n",
        "a.Isc(t).plot(vt)"
      ],
      "execution_count": null,
      "outputs": []
    },
    {
      "cell_type": "code",
      "metadata": {
        "id": "OqDJeHy-gam5"
      },
      "source": [
        "from lcapy import Vstep, R, L, C, t\n",
        "from matplotlib.pyplot import savefig\n",
        "from numpy import linspace\n",
        "\n",
        "a = Vstep(10) + R(0.1) + C(0.4,0) + L(0.2, 0)\n",
        "\n",
        "vt = linspace(0, 10, 1000)\n",
        "a.Isc(t).plot(vt)\n"
      ],
      "execution_count": null,
      "outputs": []
    },
    {
      "cell_type": "code",
      "metadata": {
        "id": "IBmHyTGAgam5"
      },
      "source": [
        ""
      ],
      "execution_count": null,
      "outputs": []
    },
    {
      "cell_type": "code",
      "metadata": {
        "id": "LDmcfU2ogam5"
      },
      "source": [
        "import matplotlib.pyplot as plt\n",
        "# if using a jupyter notebook: include %matplotlib inline. If constructing a .py-file: comment out\n",
        "%matplotlib inline\n",
        "# if high-resolution images are desired: include %config InlineBackend.figure_format = 'svg'\n",
        "%config InlineBackend.figure_format = 'svg'\n",
        "import schemdraw as schem\n",
        "import schemdraw.elements as e"
      ],
      "execution_count": null,
      "outputs": []
    },
    {
      "cell_type": "code",
      "metadata": {
        "id": "125uoh9bgam5"
      },
      "source": [
        "d = schem.Drawing(unit=2.5)\n",
        "R7 = d.add(e.RES, d='right', botlabel='$R_7$')\n",
        "R6 = d.add(e.RES, d='right', botlabel='$R_6$')\n",
        "d.add(e.LINE, d='right', l=2)\n",
        "d.add(e.LINE, d='right', l=2)\n",
        "R5 = d.add(e.RES, d='up' , botlabel='$R_5$')\n",
        "R4 = d.add(e.RES, d='up', botlabel='$R_4$')\n",
        "d.add(e.LINE, d='left', l=2)\n",
        "d.push()\n",
        "R3 = d.add(e.RES, d='down', toy=R6.end, botlabel='$R_3$')\n",
        "d.pop()\n",
        "d.add(e.LINE, d='left', l=2)\n",
        "d.push()\n",
        "R2 = d.add(e.RES, d='down', toy=R6.end, botlabel='$R_2$')\n",
        "d.pop()\n",
        "R1 = d.add(e.RES, d='left', tox=R7.start, label='$R_1$')\n",
        "Vt = d.add(e.BATTERY, d='up', xy=R7.start, toy=R1.end, label='$V_t$', lblofst=0.3)\n",
        "d.labelI(Vt, arrowlen=1.5, arrowofst=0.5)\n",
        "d.draw()\n"
      ],
      "execution_count": null,
      "outputs": []
    },
    {
      "cell_type": "code",
      "metadata": {
        "id": "B2EGNCYugam6"
      },
      "source": [
        "Vt = 5.2\n",
        "\n",
        "R1 = 0.0132\n",
        "R2 = 0.021\n",
        "R3 = 0.00360\n",
        "R4 = 0.0152\n",
        "R5 = 0.0119\n",
        "R6 = 0.0022\n",
        "R7 = 0.00740"
      ],
      "execution_count": null,
      "outputs": []
    },
    {
      "cell_type": "code",
      "metadata": {
        "id": "4saxvUvVgam6"
      },
      "source": [
        "R45 = R4 + R5\n",
        "R67 = R6 + R7\n",
        "\n",
        "print(f'R45 = {round(R45,7)} Ohm, R67 = {round(R67,5)} Ohm')"
      ],
      "execution_count": null,
      "outputs": []
    },
    {
      "cell_type": "code",
      "metadata": {
        "id": "LgAzPiIjgam6"
      },
      "source": [
        "# Series R-C network\n",
        "from lcapy import *\n",
        "import matplotlib.pyplot as plt\n",
        "plt.style.use('fivethirtyeight')\n",
        "from numpy import logspace\n",
        "from matplotlib.pyplot import figure, savefig\n",
        "\n",
        "N = R(10) + C(1e-4)\n",
        "\n",
        "vf = logspace(0, 5, 400)\n",
        "Z = N.Z(f).evaluate(vf)\n",
        "\n",
        "fig = figure()\n",
        "ax = fig.add_subplot(111)\n",
        "ax.loglog(vf, abs(Z), linewidth=2)\n",
        "ax.set_xlabel('Frequency (Hz)')\n",
        "ax.set_ylabel('Impedance (ohms)')\n",
        "ax.grid(True)"
      ],
      "execution_count": null,
      "outputs": []
    },
    {
      "cell_type": "code",
      "metadata": {
        "id": "YocST3TMgam6"
      },
      "source": [
        "from lcapy import *\n",
        "from numpy import linspace\n",
        "from matplotlib.pyplot import savefig\n",
        "\n",
        "N = Vstep(20) + R(10) + C(1e-4, 0)\n",
        "\n",
        "vt = linspace(0, 0.01, 1000)\n",
        "N.Isc(t).plot(vt)"
      ],
      "execution_count": null,
      "outputs": []
    },
    {
      "cell_type": "code",
      "metadata": {
        "id": "i0t3zCcVgam6"
      },
      "source": [
        "# Serie L-R circuit\n",
        "from lcapy import *\n",
        "from numpy import logspace\n",
        "from matplotlib.pyplot import figure, savefig\n",
        "\n",
        "N = R(10) + L(1e-2)\n",
        "\n",
        "vf = logspace(0, 5, 400)\n",
        "Z = N.Z(f).evaluate(vf)\n",
        "\n",
        "fig = figure()\n",
        "ax = fig.add_subplot(111)\n",
        "ax.loglog(vf, abs(Z), linewidth=2)\n",
        "ax.set_xlabel('Frequency (Hz)')\n",
        "ax.set_ylabel('Impedance (ohms)')\n",
        "ax.grid(True)"
      ],
      "execution_count": null,
      "outputs": []
    },
    {
      "cell_type": "code",
      "metadata": {
        "id": "Rx3JbmJ0gam7"
      },
      "source": [
        "from lcapy import *\n",
        "from numpy import linspace\n",
        "from matplotlib.pyplot import savefig\n",
        "\n",
        "N = Vstep(20) + R(10) + L(1e-2, 0)\n",
        "\n",
        "vt = linspace(0, 0.01, 1000)\n",
        "N.Isc(t).plot(vt)"
      ],
      "execution_count": null,
      "outputs": []
    },
    {
      "cell_type": "code",
      "metadata": {
        "id": "jI3mbOingam7"
      },
      "source": [
        "#Series R-L-C network\n",
        "from lcapy import *\n",
        "from numpy import logspace\n",
        "from matplotlib.pyplot import savefig\n",
        "\n",
        "N = R(10) + C(1e-4) + L(1e-3)\n",
        "\n",
        "vf = logspace(0, 5, 400)\n",
        "N.Z(f).magnitude.plot(vf)\n"
      ],
      "execution_count": null,
      "outputs": []
    },
    {
      "cell_type": "code",
      "metadata": {
        "id": "4mRd194Sgam7"
      },
      "source": [
        "from lcapy import Vstep, R, L, C, t\n",
        "from matplotlib.pyplot import savefig\n",
        "from numpy import linspace\n",
        "\n",
        "a = Vstep(10) + R(0.1) + C(0.4,0) + L(0.2, 0)\n",
        "\n",
        "vt = linspace(0, 10, 1000)\n",
        "a.Isc(t).plot(vt)"
      ],
      "execution_count": null,
      "outputs": []
    },
    {
      "cell_type": "code",
      "metadata": {
        "id": "FtEeUxPYgam7"
      },
      "source": [
        "# arallel R-L-C network\n",
        "from lcapy import *\n",
        "from numpy import logspace\n",
        "from matplotlib.pyplot import figure, savefig\n",
        "\n",
        "N = R(10) | C(1e-4) | L(1e-3)\n",
        "\n",
        "vf = logspace(0, 5, 400)\n",
        "Z = N.Z(f).evaluate(vf)\n",
        "\n",
        "fig = figure()\n",
        "ax = fig.add_subplot(111)\n",
        "ax.loglog(vf, abs(Z), linewidth=2)\n",
        "ax.set_xlabel('Frequency (Hz)')\n",
        "ax.set_ylabel('Impedance (ohms)')\n",
        "ax.grid(True)"
      ],
      "execution_count": null,
      "outputs": []
    },
    {
      "cell_type": "code",
      "metadata": {
        "id": "ruLDj-tYgam8"
      },
      "source": [
        "from lcapy import Istep, R, L, C, t\n",
        "from matplotlib.pyplot import figure, savefig\n",
        "import numpy as np\n",
        "\n",
        "a = Istep(10) | R(0.1) | C(0.4) | L(0.2)\n",
        "\n",
        "a.Voc.pprint()\n",
        "\n",
        "vt = np.linspace(0, 10, 1000)\n",
        "\n",
        "fig = figure()\n",
        "ax = fig.add_subplot(111)\n",
        "ax.plot(vt, a.Voc(t).evaluate(vt), linewidth=2)\n",
        "ax.set_xlabel('Time (s)')\n",
        "ax.set_ylabel('Voltage (V)')\n",
        "ax.grid(True)\n"
      ],
      "execution_count": null,
      "outputs": []
    },
    {
      "cell_type": "code",
      "metadata": {
        "id": "Q1BRj1Tggam8"
      },
      "source": [
        "from lcapy import R, C, L\n",
        "((R(1) + L(2)) | C(3)).draw()"
      ],
      "execution_count": null,
      "outputs": []
    },
    {
      "cell_type": "code",
      "metadata": {
        "id": "2ZcDxANSgam8"
      },
      "source": [
        "from lcapy import R, C, L\n",
        "((R(1) + L(2)) | C(3)).draw(form='vertical')"
      ],
      "execution_count": null,
      "outputs": []
    },
    {
      "cell_type": "code",
      "metadata": {
        "id": "_aJdlaFmgam8"
      },
      "source": [
        "from lcapy import R, C\n",
        "n = C('C1') | (R('R1') + (C('C2') | (R('R2') + (C('C3') | (R('R3') + C('C4'))))))\n",
        "n.draw(form='ladder')\n",
        "print(n.netlist())"
      ],
      "execution_count": null,
      "outputs": []
    },
    {
      "cell_type": "code",
      "metadata": {
        "id": "Xa_WmixFgam8"
      },
      "source": [
        "\n"
      ],
      "execution_count": null,
      "outputs": []
    },
    {
      "cell_type": "code",
      "metadata": {
        "id": "JTfMrMCsgam9"
      },
      "source": [
        "from lcapy import R, C, L,Circuit\n",
        "print(((R(1) + L(2)) | C(3)).netlist())"
      ],
      "execution_count": null,
      "outputs": []
    },
    {
      "cell_type": "code",
      "metadata": {
        "id": "YcZnYC9fgam9"
      },
      "source": [
        "cct=Circuit('''\n",
        "W 1 2; right=0.5\n",
        "W 2 4; up=0.4\n",
        "W 3 5; up=0.4\n",
        "R1 4 6 4; right\n",
        "W 6 7; right=0.5\n",
        "L1 7 5 2; right\n",
        "W 2 8; down=0.4\n",
        "W 3 9; down=0.4\n",
        "C1 8 9 3; right\n",
        "W 3 0; right=0.5''')\n",
        "cct.draw()"
      ],
      "execution_count": null,
      "outputs": []
    },
    {
      "cell_type": "code",
      "metadata": {
        "id": "c1hypBQsgam9"
      },
      "source": [
        "from lcapy import R, C, L, Par\n",
        "N = Par(R(1), R(2), R(3))\n",
        "N.draw()"
      ],
      "execution_count": null,
      "outputs": []
    },
    {
      "cell_type": "code",
      "metadata": {
        "id": "nA8vW4yigam9"
      },
      "source": [
        "from lcapy import Circuit\n",
        "\n",
        "cct = Circuit(\"\"\"\n",
        "V 1 0 step 20\n",
        "R 1 2 10\n",
        "C 2 0 1e-4\n",
        "\"\"\")\n",
        "\n",
        "import numpy as np\n",
        "t = np.linspace(0, 0.01, 1000)\n",
        "vc = cct.C.v.evaluate(t)\n",
        "\n",
        "from matplotlib.pyplot import subplots, savefig\n",
        "fig, ax = subplots(1)\n",
        "ax.plot(t, vc, linewidth=2)\n",
        "ax.set_xlabel('Time (s)')\n",
        "ax.set_ylabel('Capacitor voltage (V)')\n",
        "ax.grid(True)\n"
      ],
      "execution_count": null,
      "outputs": []
    },
    {
      "cell_type": "code",
      "metadata": {
        "id": "NKiByvZ_gam9"
      },
      "source": [
        "from lcapy import Circuit\n",
        "cct = Circuit(\"\"\"\n",
        "V 1 0 step 10; down\n",
        "L 1 2 1e-3; right, size=1.2\n",
        "C 2 3 1e-4; right, size=1.2\n",
        "R 3 0_1 10; down\n",
        "W 0 0_1; right\n",
        "\"\"\")\n",
        "cct.draw()\n",
        "\n",
        "import numpy as np\n",
        "t = np.linspace(0, 0.01, 1000)\n",
        "vr = cct.R.v.evaluate(t)\n",
        "\n",
        "from matplotlib.pyplot import subplots, savefig\n",
        "fig, ax = subplots(1)\n",
        "ax.plot(t, vr, linewidth=2)\n",
        "ax.set_xlabel('Time (s)')\n",
        "ax.set_ylabel('Resistor voltage (V)')\n",
        "ax.grid(True)"
      ],
      "execution_count": null,
      "outputs": []
    },
    {
      "cell_type": "code",
      "metadata": {
        "id": "J3UnFyUagam-"
      },
      "source": [
        "from lcapy import Circuit\n",
        "cct = Circuit(\"\"\"\n",
        "V 1 0 step 10; down\n",
        "L 1 2 1e-3; right, size=1.2\n",
        "C 2 3 1e-4; right, size=1.2\n",
        "R 3 0_1 1; down\n",
        "W 0 0_1; right\n",
        "C 2 0 l3-4;down\n",
        "\"\"\")\n",
        "cct.draw()\n",
        "\n",
        "import numpy as np\n",
        "t = np.linspace(0, 0.01, 1000)\n",
        "vr = cct.R.v.evaluate(t)\n",
        "\n",
        "from matplotlib.pyplot import subplots, savefig\n",
        "fig, ax = subplots(1)\n",
        "ax.plot(t, vr, linewidth=2)\n",
        "ax.set_xlabel('Time (s)')\n",
        "ax.set_ylabel('Resistor voltage (V)')\n",
        "ax.grid(True)\n"
      ],
      "execution_count": null,
      "outputs": []
    },
    {
      "cell_type": "code",
      "metadata": {
        "id": "a48pE5YLgam-"
      },
      "source": [
        "from lcapy import Circuit\n",
        "cct = Circuit(\"\"\"\n",
        "BAT 1 0 7.2; down=1.5, l={7.2\\,V}\n",
        "AM 1 2; right=1.5\n",
        "R 2 3; down\n",
        "W 0 3; right\n",
        "W 2 2_1; right\n",
        "W 3 3_1; right\n",
        "VM 2_1 3_1; down\"\"\")\n",
        "cct.draw()"
      ],
      "execution_count": null,
      "outputs": []
    },
    {
      "cell_type": "code",
      "metadata": {
        "id": "KSAo2fYngam-"
      },
      "source": [
        "from lcapy import Circuit\n",
        "cct = Circuit(\"\"\"\n",
        "V1 1 0 {sin(t)}; down\n",
        "R1 1 2 10; left=2, i=I_1, v=V_{R_1}\n",
        "R2 1 3 10; right=2, i=I_2, v=V_{R_2}\n",
        "L1 2 0_1 1e-3; down, i=I_1, v=V_{L_1}\n",
        "L2 3 0_3 1e-3; down, i=I_1, v=V_{L_2}\n",
        "W 0 0_3; right\n",
        "W 0 0_1; left\"\"\")\n",
        "cct.draw()\n",
        "import numpy as np\n",
        "t = np.linspace(0, 1, 1000)\n",
        "vr = cct.R2.v.evaluate(t)\n",
        "\n",
        "from matplotlib.pyplot import subplots, savefig\n",
        "fig, ax = subplots(1)\n",
        "ax.plot(t, vr, linewidth=2)\n",
        "ax.set_xlabel('Time (s)')\n",
        "ax.set_ylabel('Resistor voltage (V)')\n",
        "ax.grid(True)"
      ],
      "execution_count": null,
      "outputs": []
    },
    {
      "cell_type": "code",
      "metadata": {
        "id": "ZIFXM6Q0gam-"
      },
      "source": [
        "from lcapy import Circuit\n",
        "cct = Circuit(\"\"\"\n",
        "P1 1 0; down\n",
        "R1 1 3; right\n",
        "L1 3 2; right\n",
        "C1 3 0_1; down\n",
        "P2 2 0_2; down\n",
        "W 0 0_1; right\n",
        "W 0_1 0_2; right\"\"\")\n",
        "cct.draw()"
      ],
      "execution_count": null,
      "outputs": []
    },
    {
      "cell_type": "code",
      "metadata": {
        "id": "MTYshAx4gam_"
      },
      "source": [
        "from lcapy import Circuit, j, omega, s\n",
        "\n",
        "cct = Circuit(\"\"\"\n",
        "Vi 1 0_1 {sin(t)}; down\n",
        "R 1 2 10; right=1.5\n",
        "C 2 0 1e-3; down\n",
        "W 0_1 0; right\n",
        "W 0 0_2; right=0.5\n",
        "P1 2_2 0_2; down\n",
        "W 2 2_2;right=0.5\"\"\")\n",
        "cct.draw()\n",
        "import numpy as np\n",
        "t = np.linspace(0, 1, 1000)\n",
        "vr = cct.R.v.evaluate(t)\n",
        "\n",
        "from matplotlib.pyplot import subplots, savefig\n",
        "fig, ax = subplots(1)\n",
        "ax.plot(t, vr, linewidth=2)\n",
        "ax.set_xlabel('Time (s)')\n",
        "ax.set_ylabel('Resistor voltage (V)')\n",
        "ax.grid(True)\n"
      ],
      "execution_count": null,
      "outputs": []
    },
    {
      "cell_type": "code",
      "metadata": {
        "id": "viKdv0Nfgam_"
      },
      "source": [
        "H = (cct.C.V(s) / cct.Vi.V(s)).simplify()"
      ],
      "execution_count": null,
      "outputs": []
    },
    {
      "cell_type": "code",
      "metadata": {
        "id": "fBs6AeDxgam_"
      },
      "source": [
        "H(j * omega)"
      ],
      "execution_count": null,
      "outputs": []
    },
    {
      "cell_type": "code",
      "metadata": {
        "id": "co9AFCQbgam_"
      },
      "source": [
        "H(j * omega).rationalize_denominator()"
      ],
      "execution_count": null,
      "outputs": []
    },
    {
      "cell_type": "code",
      "metadata": {
        "id": "l9uBsuLVganA"
      },
      "source": [
        "H(j * omega).real_imag"
      ],
      "execution_count": null,
      "outputs": []
    },
    {
      "cell_type": "code",
      "metadata": {
        "id": "QPi69_wtganA"
      },
      "source": [
        "H(j * omega).magnitude"
      ],
      "execution_count": null,
      "outputs": []
    },
    {
      "cell_type": "code",
      "metadata": {
        "id": "MdnLbOVtganA"
      },
      "source": [
        "H(j * omega).phase_degrees"
      ],
      "execution_count": null,
      "outputs": []
    },
    {
      "cell_type": "code",
      "metadata": {
        "id": "6XujComdganA"
      },
      "source": [
        "H1 = H.subs('C',1e-6).subs('R',1e3)\n",
        "H1(j * omega)"
      ],
      "execution_count": null,
      "outputs": []
    },
    {
      "cell_type": "code",
      "metadata": {
        "id": "FmrP6ZbNganA"
      },
      "source": [
        "from numpy import logspace\n",
        "import matplotlib.pyplot as plt\n",
        "plt.style.use('fivethirtyeight')\n",
        "w = logspace(1, 6, 500)\n",
        "%matplotlib inline\n",
        "ax = H1(j * omega).dB.plot(w, log_frequency=True)"
      ],
      "execution_count": null,
      "outputs": []
    },
    {
      "cell_type": "code",
      "metadata": {
        "id": "g2a-v7BQganB"
      },
      "source": [
        "ax = H1(j * omega).phase_degrees.plot(w, log_frequency=True)\n"
      ],
      "execution_count": null,
      "outputs": []
    },
    {
      "cell_type": "code",
      "metadata": {
        "id": "38XgKhQuganB"
      },
      "source": [
        "from lcapy import Circuit, j, omega, s\n",
        "cct = Circuit(\"\"\"\n",
        "Vi 1 0_1 step; down\n",
        "Rs 1 2; right=1.5\n",
        "C 2 0; down, v=v_C\n",
        "W 0_1 0; right\n",
        "W 0 0_2; right\n",
        "Rin 2_2 0_2; down, v=v_{in}\n",
        "W3 2 2_2; right\n",
        "E1 3 0_3 2 0 A; down, l=A v_{in}\n",
        "Rout 3 4; right=1.5\n",
        "RL 4 0_4; down\n",
        "W 0_2 0_3; size=1.2\n",
        "W 0_3 0_4\n",
        "P1 4 0_4; down\n",
        "\"\"\")\n",
        "cct.draw()"
      ],
      "execution_count": null,
      "outputs": []
    },
    {
      "cell_type": "code",
      "metadata": {
        "id": "7V1HI-1TganB"
      },
      "source": [
        "H = cct.RL.V(s) / cct.Vi.V(s)\n",
        "H(j * omega)"
      ],
      "execution_count": null,
      "outputs": []
    },
    {
      "cell_type": "code",
      "metadata": {
        "id": "kj8s2JXTganB"
      },
      "source": [
        "H(j * omega).magnitude"
      ],
      "execution_count": null,
      "outputs": []
    },
    {
      "cell_type": "code",
      "metadata": {
        "id": "sLIkLSsMganB"
      },
      "source": [
        "H(j * omega).phase_degrees"
      ],
      "execution_count": null,
      "outputs": []
    },
    {
      "cell_type": "code",
      "metadata": {
        "id": "HbN3U8XFganC"
      },
      "source": [
        "H1 = H.subs({'C': 1e-9, 'Rs': 25e3, 'RL': 5e3, 'Rin' : 500e3, 'Rout' : 1e3, 'A' : 2})\n",
        "H1(j * omega)"
      ],
      "execution_count": null,
      "outputs": []
    },
    {
      "cell_type": "code",
      "metadata": {
        "id": "rkNjQ_S8ganC"
      },
      "source": [
        "from numpy import logspace\n",
        "w = logspace(2, 6, 500)\n",
        "%matplotlib inline\n",
        "ax = H1(j * omega).dB.plot(w, log_frequency=True)"
      ],
      "execution_count": null,
      "outputs": []
    },
    {
      "cell_type": "code",
      "metadata": {
        "id": "t_QGEkWxganC"
      },
      "source": [
        "ax = H1(j * omega).phase_degrees.plot(w, log_frequency=True)"
      ],
      "execution_count": null,
      "outputs": []
    },
    {
      "cell_type": "markdown",
      "metadata": {
        "id": "N-IAcLKOganC"
      },
      "source": [
        "https://github.com/mph-/lcapy/tree/master/doc/examples/notebooks"
      ]
    },
    {
      "cell_type": "code",
      "metadata": {
        "id": "Gh9rX4EYganC"
      },
      "source": [
        "# OpAMP  Noninverting amplifier\n",
        "from lcapy import Circuit\n",
        "cct = Circuit(\n",
        "\"\"\"\n",
        "Vi 1 0_1 {sin(t)}; down\n",
        "W 2_1 2; down\n",
        "R1 2 0 100; down\n",
        "R2 2 3_1 900; right\n",
        "W 3 3_1; down\n",
        "E1 3 0_3 opamp 1_1 2_1 A;\n",
        "W 0_1 0; right\n",
        "W 3 3_2; right\n",
        "W 0 0_3; right\n",
        "RL 3_2 0_3 1e3; down\n",
        "W 1 1_1; right\"\"\")\n",
        "cct.draw()"
      ],
      "execution_count": null,
      "outputs": []
    },
    {
      "cell_type": "code",
      "metadata": {
        "id": "UI6fyjE_ganD"
      },
      "source": [
        "import numpy as np\n",
        "t = np.linspace(0, 10, 1000)\n",
        "cct.RL.i\n",
        "cct.RL.v.limit('A', 'oo')\n",
        "vr = cct.RL.v.limit('A', 'oo').evaluate(t)\n",
        "\n",
        "from matplotlib.pyplot import subplots, savefig\n",
        "fig, ax = subplots(1)\n",
        "ax.plot(t, vr, linewidth=2)\n",
        "ax.set_xlabel('Time (s)')\n",
        "ax.set_ylabel('Resistor voltage (V)')\n",
        "ax.grid(True)"
      ],
      "execution_count": null,
      "outputs": []
    },
    {
      "cell_type": "code",
      "metadata": {
        "id": "cuCcBmwrganD"
      },
      "source": [
        "cct[3].v"
      ],
      "execution_count": null,
      "outputs": []
    },
    {
      "cell_type": "code",
      "metadata": {
        "id": "sgyjXZkdganD"
      },
      "source": [
        "(cct[1].v - cct[2].v).simplify()"
      ],
      "execution_count": null,
      "outputs": []
    },
    {
      "cell_type": "code",
      "metadata": {
        "id": "3mOK9nGLganD"
      },
      "source": [
        "cct.RL.i"
      ],
      "execution_count": null,
      "outputs": []
    },
    {
      "cell_type": "code",
      "metadata": {
        "id": "R4enhScaganD"
      },
      "source": [
        "cct.RL.v.limit('A', 'oo')"
      ],
      "execution_count": null,
      "outputs": []
    },
    {
      "cell_type": "code",
      "metadata": {
        "id": "Y9LqfTAKganE"
      },
      "source": [
        "from lcapy import Circuit, t\n",
        "cct = Circuit(\"\"\"\n",
        "V1 1 0_1 8; down\n",
        "R1 1 x 3; right=1.5, i=I\n",
        "R2 x 2 1; right=1.5\n",
        "V2 2 0_2 4; down\n",
        "W 0_1 0; right\n",
        "W 0 0_2; right\n",
        "Ox x 0; down, v=V_x\n",
        "\"\"\")\n",
        "cct.draw(label_ids=True)\n"
      ],
      "execution_count": null,
      "outputs": []
    },
    {
      "cell_type": "code",
      "metadata": {
        "id": "c3a59L7QganE"
      },
      "source": [
        "cct['x'].v"
      ],
      "execution_count": null,
      "outputs": []
    },
    {
      "cell_type": "code",
      "metadata": {
        "id": "Z1mOzxB5ganE"
      },
      "source": [
        "cct2 = cct.kill_except('V1')\n",
        "cct2.draw(label_ids=True)"
      ],
      "execution_count": null,
      "outputs": []
    },
    {
      "cell_type": "code",
      "metadata": {
        "id": "RAuNoLADganE"
      },
      "source": [
        "cct2.R2.i"
      ],
      "execution_count": null,
      "outputs": []
    },
    {
      "cell_type": "code",
      "metadata": {
        "id": "DHvjTnh-ganE"
      },
      "source": [
        "cct2['x'].v"
      ],
      "execution_count": null,
      "outputs": []
    },
    {
      "cell_type": "code",
      "metadata": {
        "id": "lRcpOwSlganF"
      },
      "source": [
        "cct3 = cct.kill_except('V2')\n",
        "cct3.draw(label_ids=True)"
      ],
      "execution_count": null,
      "outputs": []
    },
    {
      "cell_type": "code",
      "metadata": {
        "id": "Wd0D3ny5ganF"
      },
      "source": [
        "cct3.R1.i"
      ],
      "execution_count": null,
      "outputs": []
    },
    {
      "cell_type": "code",
      "metadata": {
        "id": "Vrz-HG64ganF"
      },
      "source": [
        "cct2['x'].v + cct3['x'].v"
      ],
      "execution_count": null,
      "outputs": []
    },
    {
      "cell_type": "code",
      "metadata": {
        "id": "uCtzn2qbganF"
      },
      "source": [
        "from lcapy import Circuit\n",
        "cct = Circuit(\"\"\"\n",
        "V1 1 0_1 dc; down\n",
        "R1 1 x; right=1.5, i=I\n",
        "R2 x 2; right=1.5\n",
        "V2 2 0_2 dc; down\n",
        "W 0_1 0; right\n",
        "W 0 0_2; right\n",
        "Ox x 0; down, v=V_x\n",
        "\"\"\")\n",
        "cct.draw(label_ids=True)"
      ],
      "execution_count": null,
      "outputs": []
    },
    {
      "cell_type": "code",
      "metadata": {
        "id": "EXX1fEexganF"
      },
      "source": [
        "cct.R1.I"
      ],
      "execution_count": null,
      "outputs": []
    },
    {
      "cell_type": "code",
      "metadata": {
        "id": "xbaY19lwganG"
      },
      "source": [
        "cct.R2.I"
      ],
      "execution_count": null,
      "outputs": []
    },
    {
      "cell_type": "code",
      "metadata": {
        "id": "CkA3I_QTganG"
      },
      "source": [
        "cct.R1.Z * cct.R1.I"
      ],
      "execution_count": null,
      "outputs": []
    },
    {
      "cell_type": "code",
      "metadata": {
        "id": "yWqHWgaFganG"
      },
      "source": [
        "cct['x'].V"
      ],
      "execution_count": null,
      "outputs": []
    },
    {
      "cell_type": "code",
      "metadata": {
        "id": "aEx6VZ1RganG"
      },
      "source": [
        "cct2 = cct.kill_except('V1')\n",
        "cct2.draw()"
      ],
      "execution_count": null,
      "outputs": []
    },
    {
      "cell_type": "code",
      "metadata": {
        "id": "61dcIjEyganG"
      },
      "source": [
        "cct3 = cct.kill_except('V2')\n",
        "cct3.draw()"
      ],
      "execution_count": null,
      "outputs": []
    },
    {
      "cell_type": "code",
      "metadata": {
        "id": "HrHIXQfJganG"
      },
      "source": [
        "cct2['x'].V + cct3['x'].V"
      ],
      "execution_count": null,
      "outputs": []
    },
    {
      "cell_type": "code",
      "metadata": {
        "id": "jfBpldLWganH"
      },
      "source": [
        "Vx = cct2['x'].V + cct3['x'].V\n",
        "Vx.simplify()"
      ],
      "execution_count": null,
      "outputs": []
    },
    {
      "cell_type": "code",
      "metadata": {
        "id": "l4NfxesmganH"
      },
      "source": [
        "from lcapy import Circuit\n",
        "a = Circuit(\"\"\"\n",
        "V1 1 0 {10 + v(t)}; down\n",
        "R1 1 2; right\n",
        "L1 2 3; right=1.5, i={i_L}\n",
        "R2 3 0_3; down=1.5, i={i_{R2}}, v={v_{R2}}\n",
        "W 0 0_3; right\n",
        "W 3 3_a; right\n",
        "C1 3_a 0_4; down, i={i_C}, v={v_C}\n",
        "W 0_3 0_4; right\"\"\")\n",
        "a.draw()"
      ],
      "execution_count": null,
      "outputs": []
    },
    {
      "cell_type": "code",
      "metadata": {
        "id": "Rb01_t_3ganH"
      },
      "source": [
        "# Practice 07/05/2021\n",
        "from lcapy import Circuit\n",
        "a = Circuit(\"\"\"\n",
        "V1 1 0 {10 + sin(t)}; down\n",
        "R1 1 2 1e3; right\n",
        "L1 2 3 10e-3; right=1.5, i={i_L}\n",
        "R2 3 0_3 1e3; down=1.5, i={i_{R2}}, v={v_{R2}}\n",
        "W 0 0_3; right\n",
        "W 3 3_a; right\n",
        "C1 3_a 0_4 1e-6; down, i={i_C}, v={v_C}\n",
        "W 0_3 0_4; right\"\"\")\n",
        "a.draw()\n",
        "import numpy as np\n",
        "t = np.linspace(0, 10, 1000)\n",
        "vr = a.C1.v.limit('A', 'oo').evaluate(t)\n",
        "\n",
        "from matplotlib.pyplot import subplots, savefig\n",
        "fig, ax = subplots(1)\n",
        "ax.plot(t, vr, linewidth=2)\n",
        "ax.set_xlabel('Time (s)')\n",
        "ax.set_ylabel('Resistor voltage (V)')\n",
        "ax.grid(True)"
      ],
      "execution_count": null,
      "outputs": []
    },
    {
      "cell_type": "code",
      "metadata": {
        "id": "AheRqN0VganI"
      },
      "source": [
        "# Practice 07/05/2021\n",
        "from lcapy import Circuit\n",
        "a = Circuit(\"\"\"\n",
        "V1 1 0 {10 + sin(t)}; down\n",
        "R1 1 2 1e3; right\n",
        "L1 2 3 10e-3; right=1.5, i={i_L}\n",
        "R2 3 0_3 1e3; down=1.5, i={i_{R2}}, v={v_{R2}}\n",
        "W 0 0_3; right\n",
        "W 3 3_a; right\n",
        "C1 3_a 0_4 1e-6; down, i={i_C}, v={v_C}\n",
        "W 0_3 0_4; right\"\"\")\n",
        "a.draw()"
      ],
      "execution_count": null,
      "outputs": []
    },
    {
      "cell_type": "markdown",
      "metadata": {
        "id": "eC_shiZ-ganI"
      },
      "source": [
        "Link: https://github.com/mph-/lcapy/tree/master/doc/examples/notebooks"
      ]
    },
    {
      "cell_type": "code",
      "metadata": {
        "id": "pOZtDRk9ganI"
      },
      "source": [
        "from lcapy import Circuit\n",
        "a = Circuit(\"\"\"\n",
        "V1 1 0 {cos(t)}; down\n",
        "R1 1 2 1e3; right\n",
        "R2 2 3 10e3; right\n",
        "C1 3 4 1e-6; down \n",
        "W 4 0; left\n",
        "\"\"\" )      \n",
        "a.draw()"
      ],
      "execution_count": null,
      "outputs": []
    },
    {
      "cell_type": "code",
      "metadata": {
        "id": "-iIoRYZFganI"
      },
      "source": [
        "a.dc()"
      ],
      "execution_count": null,
      "outputs": []
    },
    {
      "cell_type": "code",
      "metadata": {
        "id": "qn6pbDPJganJ"
      },
      "source": [
        "a.transient().equations()"
      ],
      "execution_count": null,
      "outputs": []
    },
    {
      "cell_type": "code",
      "metadata": {
        "id": "UJBf_w87ganJ"
      },
      "source": [
        "import numpy as np\n",
        "import matplotlib.pyplot as plt\n",
        "plt.style.use('fivethirtyeight')\n",
        "t = np.linspace(0, 10, 1000)\n",
        "vr = a.C1.v.limit('A', 'oo').evaluate(t)\n",
        "\n",
        "from matplotlib.pyplot import subplots, savefig\n",
        "fig, ax = subplots(1)\n",
        "ax.plot(t, vr, linewidth=2)\n",
        "ax.set_xlabel('Time (s)')\n",
        "ax.set_ylabel('Resistor voltage (V)')\n",
        "ax.grid(True)"
      ],
      "execution_count": null,
      "outputs": []
    },
    {
      "cell_type": "code",
      "metadata": {
        "id": "5RjvITmjganJ"
      },
      "source": [
        "a.dc().equations()"
      ],
      "execution_count": null,
      "outputs": []
    },
    {
      "cell_type": "code",
      "metadata": {
        "id": "vlrlUVBIganJ"
      },
      "source": [
        "# State-space analysis demonstration\n",
        "from lcapy import Circuit\n",
        "cct = Circuit(netlist=\n",
        "\"\"\"\n",
        "V 1 0 {v(t)}; down\n",
        "R1 1 2; right\n",
        "L 2 3; right=1.5, i={i_L}\n",
        "R2 3 0_3; down=1.5, i={i_{R2}}, v={v_{R2}}\n",
        "W 0 0_3; right\n",
        "W 3 3_a; right\n",
        "C 3_a 0_4; down, i={i_C}, v={v_C}\n",
        "W 0_3 0_4; right\n",
        "\"\"\")\n",
        "cct.draw(svg=True)"
      ],
      "execution_count": null,
      "outputs": []
    },
    {
      "cell_type": "code",
      "metadata": {
        "id": "gMpBfNggganJ"
      },
      "source": [
        "# Create state-space model\n",
        "ss=cct.ss"
      ],
      "execution_count": null,
      "outputs": []
    },
    {
      "cell_type": "code",
      "metadata": {
        "id": "qZW39ptRganK"
      },
      "source": [
        "# state variable vector\n",
        "ss.x"
      ],
      "execution_count": null,
      "outputs": []
    },
    {
      "cell_type": "code",
      "metadata": {
        "id": "1A3owiSmganK"
      },
      "source": [
        "# Independent Source Vector\n",
        "ss.u"
      ],
      "execution_count": null,
      "outputs": []
    },
    {
      "cell_type": "code",
      "metadata": {
        "id": "-bcmuq5CganK"
      },
      "source": [
        "# Output vector for node voltages\n",
        "ss.y"
      ],
      "execution_count": null,
      "outputs": []
    },
    {
      "cell_type": "code",
      "metadata": {
        "id": "XAqTd6NHganK"
      },
      "source": [
        "# Equations for node voltages\n",
        "ss.state_equations()"
      ],
      "execution_count": null,
      "outputs": []
    },
    {
      "cell_type": "code",
      "metadata": {
        "id": "xk8TXmbBganK"
      },
      "source": [
        "# output equations for the node voltages\n",
        "ss.output_equations()"
      ],
      "execution_count": null,
      "outputs": []
    },
    {
      "cell_type": "code",
      "metadata": {
        "id": "GcA7k-ZiganL"
      },
      "source": [
        "# Characteristic (system) polynomial\n",
        "ss.P"
      ],
      "execution_count": null,
      "outputs": []
    },
    {
      "cell_type": "code",
      "metadata": {
        "id": "Ulh-fXcWganL"
      },
      "source": [
        "# Eigenvalues\n",
        "ss.eigenvalues"
      ],
      "execution_count": null,
      "outputs": []
    },
    {
      "cell_type": "code",
      "metadata": {
        "id": "lE8QZ-wZganL"
      },
      "source": [
        "# Responce of R-C Circuit\n",
        "from lcapy import Circuit, s\n",
        "cct = Circuit(\"\"\"\n",
        "V1 1 0 {u(t)}; down\n",
        "R1 1 2 4; right=1.5\n",
        "C1 2 3 0.1; down=1.5\n",
        "W1 0 3; right\n",
        "\"\"\")\n",
        "cct.draw()"
      ],
      "execution_count": null,
      "outputs": []
    },
    {
      "cell_type": "code",
      "metadata": {
        "id": "H8xnxKYEganL"
      },
      "source": [
        "cct[2].V(s)"
      ],
      "execution_count": null,
      "outputs": []
    },
    {
      "cell_type": "code",
      "metadata": {
        "id": "TGkc3ge3ganL"
      },
      "source": [
        "cct[2].v"
      ],
      "execution_count": null,
      "outputs": []
    },
    {
      "cell_type": "code",
      "metadata": {
        "id": "c-jjfs18ganM"
      },
      "source": [
        "%matplotlib inline\n",
        "ax = cct[2].v.plot()"
      ],
      "execution_count": null,
      "outputs": []
    },
    {
      "cell_type": "code",
      "metadata": {
        "id": "9qzQF00-ganM"
      },
      "source": [
        "ax = cct.R1.i.plot()"
      ],
      "execution_count": null,
      "outputs": []
    },
    {
      "cell_type": "code",
      "metadata": {
        "id": "iI7yVXOJganM"
      },
      "source": [
        "cct.s_model().draw()"
      ],
      "execution_count": null,
      "outputs": []
    },
    {
      "cell_type": "code",
      "metadata": {
        "id": "LSGVz7EYganM"
      },
      "source": [
        "# Responce of R-L circuit\n",
        "from lcapy import Circuit, s\n",
        "cct = Circuit(\"\"\"\n",
        "V1 1 0 {u(t)}; down\n",
        "R1 1 2 4; right=2\n",
        "L1 2 3 0.5; down=2\n",
        "W1 0 3; right\n",
        "\"\"\")\n",
        "cct.draw()"
      ],
      "execution_count": null,
      "outputs": []
    },
    {
      "cell_type": "code",
      "metadata": {
        "id": "mf20zbX6ganM"
      },
      "source": [
        "cct[2].V(s)"
      ],
      "execution_count": null,
      "outputs": []
    },
    {
      "cell_type": "code",
      "metadata": {
        "id": "5e1QDkzUganN"
      },
      "source": [
        "%matplotlib inline\n",
        "ax = cct[2].v.plot()"
      ],
      "execution_count": null,
      "outputs": []
    },
    {
      "cell_type": "code",
      "metadata": {
        "id": "uqYbvq76ganN"
      },
      "source": [
        "from lcapy import Circuit, s\n",
        "a = Circuit(\n",
        "\"\"\"\n",
        "E 1 0 opamp 3 2 Ad; right, flipud\n",
        "R1 4 2; right\n",
        "R2 2_2 1_1; right\n",
        "W 2 2_2; up\n",
        "W 1 1_1; up\n",
        "W 4 4_2; down=0.5\n",
        "Vs 4_2 0_3; down\n",
        "W 0_3 0_1; down=0.5\n",
        "W 3 0_2; down\n",
        "W 1 1_2; right\n",
        "P 1_2 0; down\n",
        "W 0_1 0_2; right\n",
        "W 0_2 0; right\n",
        "; draw_nodes=connections, label_ids=none, label_nodes=primary\n",
        "\"\"\" )\n",
        "a.draw()"
      ],
      "execution_count": null,
      "outputs": []
    },
    {
      "cell_type": "code",
      "metadata": {
        "id": "cRJCDb9FganN"
      },
      "source": [
        "from lcapy import Circuit, t, oo\n",
        "Vo = a[1].V(t)\n",
        "Vo.pprint()\n",
        "Vo.limit('Ad', oo).pprint()"
      ],
      "execution_count": null,
      "outputs": []
    },
    {
      "cell_type": "code",
      "metadata": {
        "id": "7CVD4-UQganN"
      },
      "source": [
        "from lcapy import Circuit, t, oo\n",
        "\n",
        "aVo = a[1].V(t)\n",
        "Vo.pprint()\n"
      ],
      "execution_count": null,
      "outputs": []
    },
    {
      "cell_type": "code",
      "metadata": {
        "id": "gnnmLbSgganO"
      },
      "source": [
        "# Inverting OpAmp Amplifier\n",
        "from lcapy import Circuit\n",
        "cct=Circuit(\"\"\"\n",
        "P1 1 0_1; down\n",
        "R1 1 2; right\n",
        "R2 2_1 3_1; right\n",
        "E1 3_2 0_3 opamp 2_0 2 A; mirror\n",
        "W 0_1 0; right\n",
        "W 2_0 0; down\n",
        "W 3_2 3; right\n",
        "W 0 0_3; right\n",
        "P2 3 0_3; down\n",
        "W 2_1 2; down\n",
        "W 3_1 3_2; down\n",
        "; draw_nodes=connections \"\"\")\n",
        "cct.draw()"
      ],
      "execution_count": null,
      "outputs": []
    },
    {
      "cell_type": "code",
      "metadata": {
        "id": "Yp37JM6pganO"
      },
      "source": [
        "# Non Inverting Amplifier\n",
        "from lcapy import Circuit\n",
        "cct=Circuit(\"\"\"\n",
        "P1 1 0_1; down\n",
        "W 2_1 2; down\n",
        "R1 2 0; down\n",
        "R2 2 3_1; right\n",
        "W 3_2 3_1; down\n",
        "E1 3_2 0_3 opamp 1_1 2_1 A;\n",
        "W 0_1 0; right\n",
        "W 3_2 3; right\n",
        "W 0 0_3; right\n",
        "P2 3 0_3; down \"\"\")\n",
        "cct.draw()"
      ],
      "execution_count": null,
      "outputs": []
    },
    {
      "cell_type": "code",
      "metadata": {
        "id": "aKAmjbJdganO"
      },
      "source": [
        "# OpAmp Integrator\n",
        "from lcapy import Circuit\n",
        "cct=Circuit(\"\"\"\n",
        "P1 1 0_1; down\n",
        "R 1 2; right\n",
        "C 2_1 3_1; right\n",
        "E1 3_2 0_3 opamp 2_0 2 A; mirror\n",
        "W 0_1 0; right\n",
        "W 2_0 0; down\n",
        "W 3_2 3; right\n",
        "W 0 0_3; right\n",
        "P2 3 0_3; down\n",
        "W 2_1 2; down\n",
        "W 3_1 3_2; down \"\"\")\n",
        "cct.draw()"
      ],
      "execution_count": null,
      "outputs": []
    },
    {
      "cell_type": "code",
      "metadata": {
        "id": "eO-gBV2kganO"
      },
      "source": [
        "# Laplace analysis of RC low-pass filter\n",
        "from lcapy import Circuit,voltage,sin,u\n",
        "a = Circuit(\"\"\"\n",
        "P1 1 0; down=1.5, v=v_i(t)\n",
        "R 1 2 2; right=1.5\n",
        "C 2 0_2 {1/4}; down\n",
        "W 0 0_2; right\n",
        "W 2 3; right\n",
        "W 0_2 0_3; right\n",
        "P2 3 0_3; down, v^=v_o(t)\"\"\")\n",
        "a.draw()"
      ],
      "execution_count": null,
      "outputs": []
    },
    {
      "cell_type": "code",
      "metadata": {
        "id": "j3eOIk3-ganP"
      },
      "source": [
        " v_i = voltage(sin(3 * t) * u(t))"
      ],
      "execution_count": null,
      "outputs": []
    },
    {
      "cell_type": "code",
      "metadata": {
        "id": "Ko7ypFg7ganP"
      },
      "source": [
        "H = a.P1.transfer('P2')\n",
        "V_i = v_i(s)\n",
        "V_o = V_i * H"
      ],
      "execution_count": null,
      "outputs": []
    },
    {
      "cell_type": "code",
      "metadata": {
        "id": "OdxNVcTaganP"
      },
      "source": [
        "V_o = V_i * H\n",
        "v_o = V_o(t)"
      ],
      "execution_count": null,
      "outputs": []
    },
    {
      "cell_type": "code",
      "metadata": {
        "id": "vgkAtODJganP"
      },
      "source": [
        "ax = v_i.plot((-1, 10), label='input')\n",
        "ax = v_o.plot((-1, 10), axes=ax, label='output')\n",
        "ax.legend()"
      ],
      "execution_count": null,
      "outputs": []
    },
    {
      "cell_type": "code",
      "metadata": {
        "id": "Ap45b5OQganP"
      },
      "source": [
        "from lcapy import Circuit\n",
        "a = Circuit(\"\"\"\n",
        "V1 1 0 {2 * sin(3*t)}; down=1.5\n",
        "V2 1 2 {3 * cos(4*t)}; right=1.5\n",
        "V3 3 2 4; left=1.5\n",
        "R 3 0_3; down\n",
        "W 0 0_3; right\"\"\")\n",
        "a.draw()"
      ],
      "execution_count": null,
      "outputs": []
    },
    {
      "cell_type": "code",
      "metadata": {
        "id": "3EHYL3MVganQ"
      },
      "source": [
        ""
      ],
      "execution_count": null,
      "outputs": []
    },
    {
      "cell_type": "code",
      "metadata": {
        "id": "1mai0LKIganQ"
      },
      "source": [
        ""
      ],
      "execution_count": null,
      "outputs": []
    },
    {
      "cell_type": "code",
      "metadata": {
        "id": "X5LbKs2lganQ"
      },
      "source": [
        "\n"
      ],
      "execution_count": null,
      "outputs": []
    },
    {
      "cell_type": "code",
      "metadata": {
        "id": "LlcgasyIganR"
      },
      "source": [
        "from __future__ import division\n",
        "import matplotlib.pyplot as plt\n",
        "import math\n",
        "#from pylab import *\n",
        "%matplotlib inline\n",
        "#initializing  the  variables:\n",
        "C  =  15E-6;#  in  Farads\n",
        "R  =  47000;#  in  ohms\n",
        "V  =  120;#  in  Volts\n",
        "\n",
        "#calculation:\n",
        "tou  =  R*C\n",
        "t1  =  tou\n",
        "Vctou  =  V*(1-math.e**(-1*t1/tou))\n",
        "Vct  =  V/2\n",
        "t0  =  -1*tou*math.log(1  -  Vct/V)\n",
        "t=[]\n",
        "Vc=[]\n",
        "I  =  V/R\n",
        "for h in range(50):\n",
        "    t.append((h-1)/10)\n",
        "    k=(h-1)/10\n",
        "    Vc.append(V*(1 - math.e**(-1*k/tou)))\n",
        "fig  = plt.figure()\n",
        "ax = fig.add_subplot(1, 1, 1)\n",
        "ax.plot(t,Vc,'-')\n",
        "#plot(t,Vc,'-')\n",
        "plt.xlabel('time(sec)')\n",
        "plt.ylabel('Volts(V)')\n",
        "plt.show()\n",
        "\n",
        "#Results\n",
        "#Results\n",
        "print(\"\\n\\n  Result  \\n\\n\")\n",
        "print(\"\\n  (a)the  capacitor  voltage  at  a  time  equal  to  one  time  constant  =  \",round(Vctou,2),\"  V\")\n",
        "print(\"\\n  (b)the  time  for  the  capacitor  voltage  to  reach  one  half  of  its  steady  state  value  =  \",round(t0,5),\" secs\")"
      ],
      "execution_count": null,
      "outputs": []
    },
    {
      "cell_type": "markdown",
      "metadata": {
        "id": "DTYPgdrEganR"
      },
      "source": [
        "# Link: https://tbc-python.fossee.in/book-details/159/"
      ]
    },
    {
      "cell_type": "code",
      "metadata": {
        "id": "sH4GsAfPganR"
      },
      "source": [
        "import numpy as np\n",
        "import matplotlib.pyplot as plt\n",
        "import matplotlib.ticker as ticker\n",
        "\n",
        "\n",
        "import PySpice.Logging.Logging as Logging\n",
        "logger = Logging.setup_logging()\n",
        "\n",
        "\n",
        "from PySpice.Doc.ExampleTools import find_libraries\n",
        "from PySpice.Spice.Netlist import Circuit\n",
        "from PySpice.Spice.Library import SpiceLibrary\n",
        "from PySpice.Unit import *\n",
        "from PySpice.Physics.SemiConductor import ShockleyDiode\n",
        "\n",
        "\n",
        "libraries_path = find_libraries()\n",
        "spice_library = SpiceLibrary(libraries_path)"
      ],
      "execution_count": null,
      "outputs": []
    },
    {
      "cell_type": "code",
      "metadata": {
        "id": "S22dY25iganR"
      },
      "source": [
        "import math\n",
        "frequency = 50@u_Hz\n",
        "w = frequency.pulsation\n",
        "period = frequency.period\n",
        "\n",
        "rms_mono = 230\n",
        "amplitude_mono = rms_mono * math.sqrt(2)\n",
        "t = np.linspace(0, 3*float(period), 1000)\n",
        "L1 = amplitude_mono * np.cos(t*w)\n",
        "L2 = amplitude_mono * np.cos(t*w - 2*math.pi/3)\n",
        "L3 = amplitude_mono * np.cos(t*w - 4*math.pi/3)"
      ],
      "execution_count": null,
      "outputs": []
    },
    {
      "cell_type": "code",
      "metadata": {
        "id": "L0hUhzD3ganS"
      },
      "source": [
        "figure, ax = plt.subplots(figsize=(20, 10))\n",
        "ax.plot(\n",
        "    t, L1, t, L2, t, L3\n",
        "     \n",
        "    # t, L1-L2, t, L2-L3, t, L3-L1,\n",
        ")\n",
        "ax.grid()\n",
        "ax.set_title('Three-phase electric power: Y and Delta configurations (230V Mono/400V Tri 50Hz Europe)')\n",
        "ax.legend(\n",
        "    ('L1-N', 'L2-N', 'L3-N',\n",
        "     'L1-L2', 'L2-L3', 'L3-L1'),\n",
        "    loc=(.7,.5),\n",
        ")\n",
        "ax.set_xlabel('t [s]')\n",
        "ax.set_ylabel('[V]')\n",
        "ax.axhline(y=rms_mono,color='blue')\n",
        "ax.axhline(y=-rms_mono, color='blue')\n",
        "ax.axhline(y=rms_mono, color='blue')\n",
        "ax.axhline(y=-rms_mono, color='blue')\n",
        "\n",
        "plt.show()"
      ],
      "execution_count": null,
      "outputs": []
    },
    {
      "cell_type": "code",
      "metadata": {
        "id": "6aIfWdzdganS"
      },
      "source": [
        "!pip install schemdraw"
      ],
      "execution_count": null,
      "outputs": []
    },
    {
      "cell_type": "code",
      "metadata": {
        "id": "wlVFb076ganS"
      },
      "source": [
        "import schemdraw\n",
        "import schemdraw.elements as elm\n",
        "elm.Resistor().label('R1')"
      ],
      "execution_count": null,
      "outputs": []
    },
    {
      "cell_type": "code",
      "metadata": {
        "id": "DYc0zzuwganS"
      },
      "source": [
        "d = schemdraw.Drawing()\n",
        "d.add(elm.Resistor())\n",
        "d.add(elm.Capacitor())\n",
        "d.add(elm.Diode())\n",
        "d.draw()"
      ],
      "execution_count": null,
      "outputs": []
    },
    {
      "cell_type": "code",
      "metadata": {
        "id": "u7bHIe6IganS"
      },
      "source": [
        "d = schemdraw.Drawing()\n",
        "d += elm.Resistor().label('100KΩ')\n",
        "d += elm.Capacitor().down().label('0.1μF', loc='bottom')\n",
        "d += elm.Line().left()\n",
        "d += elm.Ground()\n",
        "d += elm.SourceV().up().label('10V')\n",
        "d.draw()"
      ],
      "execution_count": null,
      "outputs": []
    },
    {
      "cell_type": "code",
      "metadata": {
        "id": "w_X2q81eganT"
      },
      "source": [
        "d = schemdraw.Drawing()\n",
        "d += elm.Capacitor()\n",
        "d += elm.Resistor()\n",
        "d += elm.Diode()\n",
        "d.draw()"
      ],
      "execution_count": null,
      "outputs": []
    },
    {
      "cell_type": "code",
      "metadata": {
        "id": "AG2qGaKBganT"
      },
      "source": [
        "d = schemdraw.Drawing()\n",
        "d += elm.Capacitor()\n",
        "d += elm.Resistor().up()\n",
        "d += elm.Diode()\n",
        "d.draw()"
      ],
      "execution_count": null,
      "outputs": []
    },
    {
      "cell_type": "code",
      "metadata": {
        "id": "b11R5jmfganT"
      },
      "source": [
        "d1 = schemdraw.Drawing()\n",
        "d1 += elm.Resistor().theta(20).label('R1')\n",
        "d1 += elm.Resistor().label('R2')  # Takes position and direction from R1\n",
        "d1.draw()"
      ],
      "execution_count": null,
      "outputs": []
    },
    {
      "cell_type": "code",
      "metadata": {
        "id": "L7I9yWf6ganT"
      },
      "source": [
        "d2=schemdraw.Drawing()\n",
        "opamp = d2.add(elm.Opamp())\n",
        "opamp\n"
      ],
      "execution_count": null,
      "outputs": []
    },
    {
      "cell_type": "code",
      "metadata": {
        "id": "gC_AVxkIganU"
      },
      "source": [
        "d = schemdraw.Drawing()\n",
        "d += elm.Dot()\n",
        "d += elm.Resistor()\n",
        "d += elm.Dot()\n",
        "d += elm.Diode().length(6)\n",
        "d += elm.Dot()\n",
        "d.draw()"
      ],
      "execution_count": null,
      "outputs": []
    },
    {
      "cell_type": "code",
      "metadata": {
        "id": "k1E2XK-OganU"
      },
      "source": [
        "d = schemdraw.Drawing()\n",
        "d += (opamp := elm.Opamp())\n",
        "d += elm.Resistor().right().at(opamp.out)\n",
        "d.draw()"
      ],
      "execution_count": null,
      "outputs": []
    },
    {
      "cell_type": "code",
      "metadata": {
        "id": "UMEW9ki3ganU"
      },
      "source": [
        "d += elm.Resistor().label('R1')\n",
        "d += elm.Opamp().anchor('in1')"
      ],
      "execution_count": null,
      "outputs": []
    },
    {
      "cell_type": "code",
      "metadata": {
        "id": "SeEScu-9ganU"
      },
      "source": [
        "d.add(elm.BjtNpn()\n",
        "      .label('b', loc='base')\n",
        "      .label('c', loc='collector')\n",
        "      .label('e', loc='emitter'))"
      ],
      "execution_count": null,
      "outputs": []
    },
    {
      "cell_type": "code",
      "metadata": {
        "id": "M_pFVsQMganU"
      },
      "source": [
        "# All elements are blue with lightgray fill unless specified otherwise\n",
        "d = schemdraw.Drawing(color='blue', fill='lightgray')\n",
        "\n",
        "d += elm.Diode()\n",
        "d += elm.Diode().fill('red')        # Fill overrides drawing color here\n",
        "d += elm.Resistor().fill('purple')  # Fill has no effect on non-closed elements\n",
        "d += elm.RBox().linestyle('--').color('orange')\n",
        "d += elm.Resistor().linewidth(5)\n",
        "d.draw()"
      ],
      "execution_count": null,
      "outputs": []
    },
    {
      "cell_type": "code",
      "metadata": {
        "id": "fqY70uPvganV"
      },
      "source": [
        "# R1 can't set .at(Q1.base), because base position is not defined until Drawing is created\n",
        "# But it can set .at((Q1, 'base')).\n",
        "schemdraw.Drawing(\n",
        "    Q1 := elm.BjtNpn().label('$Q_1$'),\n",
        "    elm.Resistor().left().at((Q1, 'base')).label('$R_1$').label('$V_{in}$', 'left'),\n",
        "    elm.Resistor().up().at((Q1, 'collector')).label('$R_2$').label('$V_{cc}$', 'right'),\n",
        "    elm.Ground().at((Q1, 'emitter'))\n",
        "    )"
      ],
      "execution_count": null,
      "outputs": []
    },
    {
      "cell_type": "code",
      "metadata": {
        "id": "BxM7CBgVganV"
      },
      "source": [
        "from schemdraw import logic\n",
        "logic.Nand(inputs=3)"
      ],
      "execution_count": null,
      "outputs": []
    },
    {
      "cell_type": "code",
      "metadata": {
        "id": "ERFodlrDganV"
      },
      "source": [
        "# Inverting OPAMP\n",
        "d = schemdraw.Drawing()\n",
        "d += (op := elm.Opamp())\n",
        "d += elm.Line().left().at(op.in2).length(d.unit/4)\n",
        "d += elm.Line().down().length(d.unit/5)\n",
        "d += elm.Ground()\n",
        "d += elm.Line().left().at(op.in1).length(d.unit/6)\n",
        "d += elm.Dot()\n",
        "d.push()\n",
        "d += (Rin := elm.Resistor().left().at((op.in1[0]-d.unit/5, op.in1[1]))\n",
        "                          .label('$R_{in}$', loc='bot')\n",
        "                          .label('$v_{in}$', loc='lft'))\n",
        "d.pop()\n",
        "d += elm.Line().up().length(d.unit/2)\n",
        "d += elm.Resistor().right().label('$R_f$')\n",
        "d += elm.Line().down().toy(op.out)\n",
        "d += elm.Dot()\n",
        "d += elm.Line().left().tox(op.out)\n",
        "d += elm.Line().right().length(d.unit/4).label('$v_{o}$', loc='rgt')\n",
        "d.draw()"
      ],
      "execution_count": null,
      "outputs": []
    },
    {
      "cell_type": "code",
      "metadata": {
        "id": "ig7HdfIbganV"
      },
      "source": [
        "# Non Inverting OPAMP\n",
        "d = schemdraw.Drawing()\n",
        "d += (op := elm.Opamp())\n",
        "d += elm.Line(at=op.out).length(.75)\n",
        "d += elm.Line().left().at(op.in1).length(.75)\n",
        "d += elm.Line().up().length(1.5)\n",
        "d += elm.Dot()\n",
        "d += (R1 := elm.Resistor().left().label('$R_1$'))\n",
        "d += elm.Ground()\n",
        "d += (Rf := elm.Resistor().right().at(R1.start).tox(op.out+.5).label('$R_f$'))\n",
        "d += elm.Line().down().toy(op.out)\n",
        "d += (dot := elm.Dot())\n",
        "d += elm.Line().left().at(op.in2).length(.75)\n",
        "d += elm.Dot()\n",
        "d += (R3 := elm.Resistor().down().label('$R_3$'))\n",
        "d += elm.Dot()\n",
        "d += elm.Ground()\n",
        "d += (R2 := elm.Resistor().left().at(R3.start).label('$R_2$'))\n",
        "d += elm.SourceV().down().reverse().label('$v_{in}$')\n",
        "d += elm.Line().right().tox(Rf.end)\n",
        "d += elm.Gap().down().at(dot.start).toy(R3.end).label(['+','$v_o$','–'])\n",
        "d.draw()"
      ],
      "execution_count": null,
      "outputs": []
    },
    {
      "cell_type": "markdown",
      "metadata": {
        "id": "K7RjsEXjganV"
      },
      "source": [
        "# Solving a Circuit Diagram Problem with Python and SchemDraw\n"
      ]
    },
    {
      "cell_type": "code",
      "metadata": {
        "id": "5hPDWEMVganW"
      },
      "source": [
        "!pip install schemdraw"
      ],
      "execution_count": null,
      "outputs": []
    },
    {
      "cell_type": "code",
      "metadata": {
        "id": "dSKGqT8aganW"
      },
      "source": [
        "import matplotlib.pyplot as plt\n",
        "# if using a jupyter notebook: include %matplotlib inline. If constructing a .py-file: comment out\n",
        "%matplotlib inline\n",
        "# if high-resolution images are desired: include %config InlineBackend.figure_format = 'svg'\n",
        "%config InlineBackend.figure_format = 'svg'\n",
        "import schemdraw as schem\n",
        "import schemdraw.elements as e"
      ],
      "execution_count": null,
      "outputs": []
    },
    {
      "cell_type": "code",
      "metadata": {
        "id": "TUmyaPyrganW"
      },
      "source": [
        "d = schem.Drawing(unit=2.5)\n",
        "R7 = d.add(e.RES, d='right', botlabel='$R_7$')\n",
        "R6 = d.add(e.RES, d='right', botlabel='$R_6$')\n",
        "d.add(e.LINE, d='right', l=2)\n",
        "d.add(e.LINE, d='right', l=2)\n",
        "R5 = d.add(e.RES, d='up' , botlabel='$R_5$')\n",
        "R4 = d.add(e.RES, d='up', botlabel='$R_4$')\n",
        "d.add(e.LINE, d='left', l=2)\n",
        "d.push()\n",
        "R3 = d.add(e.RES, d='down', toy=R6.end, botlabel='$R_3$')\n",
        "d.pop()\n",
        "d.add(e.LINE, d='left', l=2)\n",
        "d.push()\n",
        "R2 = d.add(e.RES, d='down', toy=R6.end, botlabel='$R_2$')\n",
        "d.pop()\n",
        "R1 = d.add(e.RES, d='left', tox=R7.start, label='$R_1$')\n",
        "Vt = d.add(e.BATTERY, d='up', xy=R7.start, toy=R1.end, label='$V_t$', lblofst=0.3)\n",
        "d.labelI(Vt, arrowlen=1.5, arrowofst=0.5)\n",
        "d.draw()\n",
        "#d.save('7_resistors_3_loops.png')\n",
        "#d.save('7_resistors_3_loops.pdf')"
      ],
      "execution_count": null,
      "outputs": []
    },
    {
      "cell_type": "markdown",
      "metadata": {
        "id": "7Jkf0XxNganW"
      },
      "source": [
        "# Find $R_t$"
      ]
    },
    {
      "cell_type": "code",
      "metadata": {
        "id": "bAPIJJvmganX"
      },
      "source": [
        "Vt = 5.2\n",
        "\n",
        "R1 = 132\n",
        "R2 = 21\n",
        "R3 = 360\n",
        "R4 = 152\n",
        "R5 = 119\n",
        "R6 = 22\n",
        "R7 = 740\n",
        "R45 = R4 + R5\n",
        "R67 = R6 + R7\n",
        "\n",
        "print(f'R45 = {round(R45,7)} Ohm, R67 = {round(R67,5)} Ohm')"
      ],
      "execution_count": null,
      "outputs": []
    },
    {
      "cell_type": "markdown",
      "metadata": {
        "id": "wq9UXP57ganX"
      },
      "source": [
        "# Let's  redraw the circuit"
      ]
    },
    {
      "cell_type": "code",
      "metadata": {
        "id": "4drK8NcvganX"
      },
      "source": [
        "d = schem.Drawing(unit=2.5)\n",
        "R67 = d.add(e.RES, d='right', botlabel='$R_{67}$')\n",
        "d.add(e.LINE, d='right', l=2)\n",
        "d.add(e.LINE, d='right', l=2)\n",
        "R45 = d.add(e.RES, d='up', botlabel='$R_{45}$')\n",
        "d.add(e.LINE, d='left', l=2)\n",
        "d.push()\n",
        "R3 = d.add(e.RES, d='down', toy=R67.end, botlabel='$R_3$')\n",
        "d.pop()\n",
        "d.add(e.LINE, d='left', l=2)\n",
        "d.push()\n",
        "R2 = d.add(e.RES, d='down', toy=R67.end, botlabel='$R_2$')\n",
        "d.pop()\n",
        "R1 = d.add(e.RES, d='left', tox=R67.start, label='$R_1$')\n",
        "Vt = d.add(e.BATTERY, d='up', xy=R67.start, toy=R1.end, label='$V_t$', lblofst=0.3)\n",
        "d.labelI(Vt, arrowlen=1.5, arrowofst=0.5)\n",
        "d.draw()\n",
        "#d.save('5_resistors_3_loops.png')\n",
        "#d.save('5_resistors_3_loops.pdf')"
      ],
      "execution_count": null,
      "outputs": []
    },
    {
      "cell_type": "markdown",
      "metadata": {
        "id": "rO28VRjbganX"
      },
      "source": [
        "# To Find the combined resistance\n"
      ]
    },
    {
      "cell_type": "markdown",
      "metadata": {
        "id": "Rr7iLo38ganX"
      },
      "source": [
        "##  $ R_{2345}=\\frac{1}{R_2}+\\frac{1}{R_3}+\\frac{1}{R_{45}} $"
      ]
    },
    {
      "cell_type": "code",
      "metadata": {
        "id": "Gcu_x5qIganY"
      },
      "source": [
        "Vt = 5.2\n",
        "Vt = 5.2\n",
        "\n",
        "R1 = 132\n",
        "R2 = 21\n",
        "R3 = 360\n",
        "R4 = 152\n",
        "R5 = 119\n",
        "R6 = 22\n",
        "R7 = 740\n",
        "R45 = R4 + R5\n",
        "R67 = R6 + R7\n",
        "\n",
        "R45 = R4 + R5\n",
        "R67 = R6 + R7\n",
        "\n",
        "R2345 = ((1/R2)+(1/R3)+(1/R45))**(-1)\n",
        "print(f'R2345 = {round(R2345,7)} Ohm')"
      ],
      "execution_count": null,
      "outputs": []
    },
    {
      "cell_type": "code",
      "metadata": {
        "id": "vTTCgqmQganY"
      },
      "source": [
        "d = schem.Drawing(unit=2.5)\n",
        "R67 = d.add(e.RES, d='right', botlabel='$R_{67}$')\n",
        "R345 = d.add(e.RES, d='up' , botlabel='$R_{2345}$')\n",
        "R1 = d.add(e.RES, d='left', tox=R67.start, label='$R_1$')\n",
        "Vt = d.add(e.BATTERY, d='up', xy=R67.start, toy=R1.end, label='$V_t$', lblofst=0.3)\n",
        "d.labelI(Vt, arrowlen=1.5, arrowofst=0.5)\n",
        "d.draw()\n",
        "#d.save('3_resistors_1_loop.png')\n",
        "#d.save('3_resistors_1_loop.pdf')"
      ],
      "execution_count": null,
      "outputs": []
    },
    {
      "cell_type": "code",
      "metadata": {
        "id": "-RpIIBbvganY"
      },
      "source": [
        "Vt = 5.2\n",
        "\n",
        "R1 = 132\n",
        "R2 = 21\n",
        "R3 = 360\n",
        "R4 = 152\n",
        "R5 = 119\n",
        "R6 = 22\n",
        "R7 = 740\n",
        "R45 = R4 + R5\n",
        "R67 = R6 + R7\n",
        "\n",
        "R2345 = ((1/R2)+(1/R3)+(1/R45))**(-1)\n",
        "\n",
        "Rt = R1 + R2345 + R67\n",
        "print(f'Rt = {round(Rt,7)} Ohm')"
      ],
      "execution_count": null,
      "outputs": []
    },
    {
      "cell_type": "code",
      "metadata": {
        "id": "Tu-q8JlqganY"
      },
      "source": [
        "d = schem.Drawing(unit=2.5)\n",
        "L2 = d.add(e.LINE, d='right')\n",
        "Rt = d.add(e.RES, d='up' , botlabel='$R_{t}$')\n",
        "L1 = d.add(e.LINE, d='left', tox=L2.start)\n",
        "Vt = d.add(e.BATTERY, d='up', xy=L2.start, toy=L1.end, label='$V_t$', lblofst=0.3)\n",
        "d.labelI(Vt, arrowlen=1.5, arrowofst=0.5)\n",
        "d.draw()\n",
        "#d.save('1_resistor_no_loops.png')\n",
        "#d.save('1_resistor_no_loops.pdf')"
      ],
      "execution_count": null,
      "outputs": []
    },
    {
      "cell_type": "code",
      "metadata": {
        "id": "fj_ooTLXganY"
      },
      "source": [
        ""
      ],
      "execution_count": null,
      "outputs": []
    },
    {
      "cell_type": "code",
      "metadata": {
        "id": "TMb5NkHeganZ"
      },
      "source": [
        "# Half Adder\n",
        "import schemdraw as schemdraw\n",
        "import schemdraw.elements as e\n",
        "from schemdraw import logic\n",
        "d = schemdraw.Drawing(unit=.5)\n",
        "d += (S := logic.Xor().label('S', 'right'))\n",
        "d += (A := logic.Dot().at(S.in1))\n",
        "d += logic.Line().left().length(d.unit*2).label('A', 'left')\n",
        "d += logic.Line().left().at(S.in2)\n",
        "d += (B := logic.Dot())\n",
        "d += logic.Line().left().label('B', 'left')\n",
        "\n",
        "d += logic.Line().down().at(A.start).length(d.unit*3)\n",
        "d += (C := logic.And().right().anchor('in1').label('C', 'right'))\n",
        "d += logic.Line().down().at(B.start).toy(C.in2)\n",
        "d += logic.Line().to(C.in2)\n",
        "d.draw()"
      ],
      "execution_count": null,
      "outputs": []
    },
    {
      "cell_type": "code",
      "metadata": {
        "id": "Gxe59WRyganZ"
      },
      "source": [
        "# Full Adder\n",
        "d = schemdraw.Drawing(unit=.5)\n",
        "d += (X1 := logic.Xor())\n",
        "d += logic.Dot()\n",
        "d += (A := logic.Dot().at(X1.in1))\n",
        "d += (Ain := logic.Line().left().length(d.unit*2).label('A', 'left'))\n",
        "d += logic.Line().left().at(X1.in2)\n",
        "d += (B := logic.Dot())\n",
        "d += logic.Line().left().label('B', 'left')\n",
        "\n",
        "d += logic.Line().right().at(X1.out).length(d.unit)\n",
        "d += (X2 := logic.Xor().anchor('in1'))\n",
        "d += (C := logic.Line().down().at(X2.in2).length(d.unit*2))\n",
        "d.push()\n",
        "d += logic.Dot().at(C.center)\n",
        "d += logic.Line().left().tox(Ain.end).label('C$_{in}$', 'left')\n",
        "d.pop()\n",
        "\n",
        "d += (A1 := logic.And().right().anchor('in1'))\n",
        "d += logic.Line().left().at(A1.in2).tox(X1.out)\n",
        "d += logic.Line().up().toy(X1.out)\n",
        "d += (A2 := logic.And().right().anchor('in1').at((A1.in1[0],A1.in2[1]-d.unit*2)))\n",
        "d += logic.Line().left().at(A2.in1).tox(A.start)\n",
        "d += logic.Line().up().toy(A.start)\n",
        "d += logic.Line().left().at(A2.in2).tox(B.start)\n",
        "d += logic.Line().up().toy(B.start)\n",
        "\n",
        "d += (O1 := logic.Or().right().at((A1.out[0],(A1.out[1]+A2.out[1])/2))\n",
        "                .label('C$_{out}$', 'right'))\n",
        "d += logic.Line().down().at(A1.out).toy(O1.in1)\n",
        "d += logic.Line().up().at(A2.out).toy(O1.in2)\n",
        "d += logic.Line().right().at(X2.out).tox(O1.out).label('S', 'right')\n",
        "d.draw()"
      ],
      "execution_count": null,
      "outputs": []
    },
    {
      "cell_type": "code",
      "metadata": {
        "id": "O7gtfFhBganZ"
      },
      "source": [
        "# JK Flip Flop\n",
        "d = schemdraw.Drawing()\n",
        "# Two front gates (SR latch)\n",
        "d += (G1 := logic.Nand().anchor('in1'))\n",
        "d += logic.Line().length(d.unit/6)\n",
        "d += (Q1 := logic.Dot())\n",
        "d += logic.Line().length(d.unit/6)\n",
        "d += (Q2 := logic.Dot())\n",
        "d += logic.Line().length(d.unit/3).label('Q', 'right')\n",
        "d += (G2 := logic.Nand().anchor('in1').at((G1.in1[0],G1.in1[1]-2.5)))\n",
        "d += logic.Line().length(d.unit/6)\n",
        "d += (Qb := logic.Dot())\n",
        "d += logic.Line().length(d.unit/3)\n",
        "d += (Qb2 := logic.Dot())\n",
        "d += logic.Line().length(d.unit/6).label('$\\overline{Q}$', 'right')\n",
        "d += (S1 := logic.Line().up().at(G2.in1).length(d.unit/6))\n",
        "d += logic.Line().down().at(Q1.start).length(d.unit/6)\n",
        "d += logic.Line().to(S1.end)\n",
        "d += (R1 := logic.Line().down().at(G1.in2).length(d.unit/6))\n",
        "d += logic.Line().up().at(Qb.start).length(d.unit/6)\n",
        "d += logic.Line().to(R1.end)\n",
        "\n",
        "# Two back gates\n",
        "d += logic.Line().left().at(G1.in1).length(d.unit/6)\n",
        "d += (J := logic.Nand(inputs=3).anchor('out').reverse())\n",
        "d += logic.Line().up().at(J.in3).length(d.unit/6)\n",
        "d += logic.Line().right().tox(Qb2.start)\n",
        "d += logic.Line().down().toy(Qb2.start)\n",
        "d += logic.Line().left().at(J.in2).length(d.unit/4).label('J', 'left')\n",
        "d += logic.Line().left().at(G2.in2).length(d.unit/6)\n",
        "d += (K := logic.Nand(inputs=3).reverse().anchor('out'))\n",
        "d += logic.Line().down().at(K.in1).length(d.unit/6)\n",
        "d += logic.Line().right().tox(Q2.start)\n",
        "d += logic.Line().up().toy(Q2.start)\n",
        "d += logic.Line().left().at(K.in2).length(d.unit/4).label('K', 'left')\n",
        "d += (C := logic.Line().down().at(J.in1).toy(K.in3))\n",
        "d += logic.Dot().at(C.center)\n",
        "d += logic.Line().left().at(C.center).length(d.unit/4).label('CLK', 'left')\n",
        "d.draw()"
      ],
      "execution_count": null,
      "outputs": []
    },
    {
      "cell_type": "code",
      "metadata": {
        "id": "BTSQTjCBganZ"
      },
      "source": [
        "# S-R Latch\n",
        "d = schemdraw.Drawing()\n",
        "d += logic.Line().length(d.unit/4).label('R', 'left')\n",
        "d += (G1 := logic.Nor().anchor('in1'))\n",
        "d += logic.Line().length(d.unit/4)\n",
        "d += (Q := logic.Dot())\n",
        "d += logic.Line().length(d.unit/4).label('Q', 'right')\n",
        "\n",
        "d += (G2 := logic.Nor().at((G1.in1[0],G1.in1[1]-2.5)).anchor('in1'))\n",
        "d += logic.Line().length(d.unit/4)\n",
        "d += (Qb := logic.Dot())\n",
        "d += logic.Line().length(d.unit/4).label('$\\overline{Q}$', 'right')\n",
        "d += (S1 := logic.Line().up().at(G2.in1).length(d.unit/6))\n",
        "d += logic.Line().down().at(Q.start).length(d.unit/6)\n",
        "d += logic.Line().to(S1.end)\n",
        "d += (R1 := logic.Line().down().at(G1.in2).length(d.unit/6))\n",
        "d += logic.Line().up().at(Qb.start).length(d.unit/6)\n",
        "d += logic.Line().to(R1.end)\n",
        "d += logic.Line().left().at(G2.in2).length(d.unit/4).label('S', 'left')\n",
        "d.draw()"
      ],
      "execution_count": null,
      "outputs": []
    },
    {
      "cell_type": "code",
      "metadata": {
        "id": "Ed41GxL9gana"
      },
      "source": [
        "import schemdraw as schemdraw\n",
        "import schemdraw.elements as elm\n",
        "d = schemdraw.Drawing()\n",
        "for i, color in enumerate(['red', 'orange', 'yellow', 'yellowgreen', 'green', 'blue', 'indigo', 'violet']):\n",
        "    d += elm.Resistor().theta(45*i+20).color(color).label('R{}'.format(i))\n",
        "d.draw()"
      ],
      "execution_count": null,
      "outputs": []
    },
    {
      "cell_type": "code",
      "metadata": {
        "id": "TlK0vWpNgana"
      },
      "source": [
        "# Hand Drawn\n",
        "import matplotlib.pyplot as plt\n",
        "plt.xkcd()\n",
        "\n",
        "d = schemdraw.Drawing(inches_per_unit=.5)\n",
        "d += (op := elm.Opamp())\n",
        "d += elm.Line().left().at(op.in2).length(d.unit/4)\n",
        "d += elm.Line().down().length(d.unit/5)\n",
        "d += elm.Ground()\n",
        "d += elm.Line().left().at(op.in1).length(d.unit/6)\n",
        "d += elm.Dot()\n",
        "d.push()\n",
        "d += (Rin := elm.Resistor().left().at((op.in1[0]-d.unit/5, op.in1[1]))\n",
        "      .label('$R_{in}$', 'bottom')\n",
        "      .label('$v_{in}$', 'left'))\n",
        "d.pop()\n",
        "d += elm.Line().up().length(d.unit/2)\n",
        "d += (Rf := elm.Resistor().right().length(d.unit).label('$R_f$'))\n",
        "d += elm.Line().down().toy(op.out)\n",
        "d += elm.Dot()\n",
        "d += elm.Line().left().tox(op.out)\n",
        "d += elm.Line().right().length(d.unit/4).label('$v_{o}$', 'right')\n",
        "d.draw()"
      ],
      "execution_count": null,
      "outputs": []
    },
    {
      "cell_type": "code",
      "metadata": {
        "id": "ZNw0WM-jgana"
      },
      "source": [
        "import schemdraw\n",
        "import schemdraw.elements as elm\n",
        "\n",
        "d = schemdraw.Drawing()\n",
        "R1 = d.add(elm.Resistor(label='1K$\\Omega$'))\n",
        "d.labelI(R1, '1 mA', top=False)\n",
        "d.add(elm.Capacitor(d='down', botlabel='0.1$\\mu$F'))\n",
        "d.add(elm.Line( d='Left'))\n",
        "d.add(elm.Ground)\n",
        "d.add(elm.SourceV( d='up', label='10V') )\n",
        "d.save('schematic.svg')\n",
        "d.draw()"
      ],
      "execution_count": null,
      "outputs": []
    },
    {
      "cell_type": "code",
      "metadata": {
        "id": "1tKag6wJgana"
      },
      "source": [
        ""
      ],
      "execution_count": null,
      "outputs": []
    },
    {
      "cell_type": "code",
      "metadata": {
        "id": "6dx3rE5Tganb"
      },
      "source": [
        ""
      ],
      "execution_count": null,
      "outputs": []
    },
    {
      "cell_type": "code",
      "metadata": {
        "id": "kBYvK2b5ganb"
      },
      "source": [
        "# Laplace analysis of RC low-pass filter\n",
        "from lcapy import Circuit,voltage,sin,u\n",
        "a = Circuit(\"\"\"\n",
        "V1 1 0 {10*sin(t)}; down=1.5\n",
        "D4 1 2; right, kind=zener, l=zener\n",
        "R 2 0_2 {100}; down=1.5\n",
        "W 0 0_2; right\n",
        "W 2 3; right\n",
        "W 0_2 0_3; right\n",
        "#P2 3 0_3; down, v^=v_o(t)\"\"\")\n",
        "a.draw()"
      ],
      "execution_count": null,
      "outputs": []
    },
    {
      "cell_type": "code",
      "metadata": {
        "id": "obGuS-Euganb"
      },
      "source": [
        ""
      ],
      "execution_count": null,
      "outputs": []
    },
    {
      "cell_type": "code",
      "metadata": {
        "id": "md2H74w1ganb"
      },
      "source": [
        "# Laplace analysis of RC low-pass filter\n",
        "from lcapy import Circuit,voltage,sin,u\n",
        "a = Circuit(\"\"\"\n",
        "V1 1 0 {10*sin(t)}; down=1.5\n",
        "Q1 1 2 3 npn; up\n",
        "\n",
        "\"\"\")\n",
        "a.draw()"
      ],
      "execution_count": null,
      "outputs": []
    },
    {
      "cell_type": "code",
      "metadata": {
        "id": "KSAn4ZXqganc"
      },
      "source": [
        "from lcapy import Circuit\n",
        "import numpy as np\n",
        "import matplotlib.pyplot as plt\n",
        "\n",
        "cct = Circuit('''\n",
        "Vin 1 0 {sin(130e6*2*3.14159*t)}\n",
        "R1  1 0 1000; right\n",
        "C4  1 2 1.0e-5   0\n",
        "C2  2 3 39.0e-12 0\n",
        "C3  3 0 22.0e-12 0\n",
        "La  2 4 0.32e-6  0\n",
        "C1  4 0 3.0e-12  0''')\n",
        "\n",
        "\n",
        "t = np.linspace(0, 2e-7, 1000)\n",
        "Vinp = cct.Vin.v.evaluate(t)\n",
        "Vout = cct.C1.v.evaluate(t)\n",
        "\n",
        "plt.plot(t, Vinp, 'g', linewidth=2)\n",
        "plt.plot(t, Vout, 'r', linewidth=2)\n",
        "plt.grid(b=True, which='major', color='#666666', linestyle='-')\n",
        "plt.minorticks_on()\n",
        "plt.grid(b=True, which='minor', color='#999999', linestyle='-', alpha=0.2)\n",
        "plt.show()"
      ],
      "execution_count": null,
      "outputs": []
    },
    {
      "cell_type": "code",
      "metadata": {
        "id": "3DyJr-eSgand"
      },
      "source": [
        "from lcapy import Circuit\n",
        "import numpy as np\n",
        "import matplotlib.pyplot as plt\n",
        "cct = Circuit('''\n",
        "Vin 1 0 {sin(2*3*t)}; down \n",
        "R1  1 2 1000; right \n",
        "C4  2 3 1.0e-5; right\n",
        "C2  3 4 39.0e-12; right\n",
        "W 0 0_4; right=3.0\n",
        "\n",
        "''')\n",
        "cct.draw()"
      ],
      "execution_count": null,
      "outputs": []
    },
    {
      "cell_type": "code",
      "metadata": {
        "id": "cvg1Ye77gand"
      },
      "source": [
        "from lcapy import Circuit\n",
        "import numpy as np\n",
        "import matplotlib.pyplot as plt\n",
        "\n",
        "##cct = Circuit('''\n",
        "##... Vin 1 0 {sin(130e6*2*3.14159*t)}\n",
        "##... Rin 1 2 50\n",
        "##... Cs  2 4 2.34e-12 0\n",
        "##... La  2 3 0.32e-6 0\n",
        "##... Rs  3 4 0.532\n",
        "##... Rl  4 0 50''')\n",
        "\n",
        "cct = Circuit('''\n",
        "Vin 1 0 {sin(130e6*2*3.14159*t)}\n",
        "Rin 1 2\n",
        "Cs  2 4 0\n",
        "La  2 3 0\n",
        "Rs  3 4\n",
        "Rl  4 0''')\n",
        "\n",
        "cct1 = cct.subs({'Rin': 50, 'Cs':2.34e-12, 'La': 0.32e-6, 'Rs': 0.532, 'Rl': 50})\n",
        "##H = cct.transfer(1,0,4,0)\n",
        "##print(H)\n",
        "\n",
        "t = np.linspace(0, 2e-7, 1000)\n",
        "Vinp = cct1.Vin.v.evaluate(t)\n",
        "Vout = cct1.Rl.v.evaluate(t)\n",
        "plt.figure(figsize=(12,8))\n",
        "plt.plot(t, Vinp, 'g', linewidth=2)\n",
        "plt.plot(t, Vout, 'r', linewidth=2)\n",
        "plt.grid(b=True, which='major', color='#666666', linestyle='-')\n",
        "plt.minorticks_on()\n",
        "plt.grid(b=True, which='minor', color='#999999', linestyle='-', alpha=0.2)\n",
        "plt.show()"
      ],
      "execution_count": null,
      "outputs": []
    },
    {
      "cell_type": "code",
      "metadata": {
        "id": "zj7yF8Lpgand"
      },
      "source": [
        "from lcapy import Circuit\n",
        "import numpy as np\n",
        "import matplotlib.pyplot as plt\n",
        "cct=Circuit('''\n",
        "V1 1 0_0 {sin(t)}; down\n",
        "Q1 3 0 2 pnp; up\n",
        "R1 1 2 1000;right\n",
        "R2 4 0_4 500;down\n",
        "P1 1 0_1;down\n",
        "W 0_1 0;right\n",
        "W 0 0_4;right\n",
        "W 3 4;right ''')\n",
        "cct.draw()"
      ],
      "execution_count": null,
      "outputs": []
    },
    {
      "cell_type": "code",
      "metadata": {
        "id": "74gRrNAdgand"
      },
      "source": [
        ""
      ],
      "execution_count": null,
      "outputs": []
    },
    {
      "cell_type": "code",
      "metadata": {
        "id": "Dn0jYYDfgane"
      },
      "source": [
        "from lcapy import Circuit, NodalAnalysis,L,R,C\n",
        "cct = Circuit('''\n",
        "V1 1 0 {10*sin(t)*sin(t)}; down\n",
        "R1 1 2 1000; right=2\n",
        "L1 2 3 1e-3; down=2\n",
        "W1 0 3; right\n",
        "W 1 5; up\n",
        "W 2 6; up\n",
        "C1 5 6 1e-3; right=2\n",
        "''')  \n",
        "cct.draw()\n"
      ],
      "execution_count": null,
      "outputs": []
    },
    {
      "cell_type": "code",
      "metadata": {
        "id": "7hp97wf1gane"
      },
      "source": [
        "import matplotlib.pyplot as plt\n",
        "import numpy as np\n",
        "plt.style.use('fivethirtyeight')\n",
        "t = np.linspace(0, 10, 1000)\n",
        "Vinp = cct.R1.v.evaluate(t)\n",
        "Vout = cct.C1.v.evaluate(t)\n",
        "plt.figure(figsize=(12,8))\n",
        "plt.plot(t, Vinp, 'g', linewidth=2)\n",
        "plt.plot(t, Vout, 'r', linewidth=2)\n",
        "plt.grid(b=True, which='major', color='#666666', linestyle='-')\n",
        "plt.minorticks_on()\n",
        "plt.grid(b=True, which='minor', color='#999999', linestyle='-', alpha=0.2)\n",
        "plt.show()"
      ],
      "execution_count": null,
      "outputs": []
    },
    {
      "cell_type": "code",
      "metadata": {
        "id": "DBQqFD4Wgane"
      },
      "source": [
        "# Here’s an example of a Thevenin to Norton transformation:\n",
        "from lcapy import *\n",
        "T = Vdc(10) + R(5)+R(10)\n",
        "n = T.norton()\n",
        "n"
      ],
      "execution_count": null,
      "outputs": []
    },
    {
      "cell_type": "code",
      "metadata": {
        "id": "ANP-TLp9gane"
      },
      "source": [
        "# From Norton to Thevnin\n",
        "from lcapy import *\n",
        "n = Idc(10) | R(5)\n",
        "T = n.thevenin()\n",
        "T"
      ],
      "execution_count": null,
      "outputs": []
    },
    {
      "cell_type": "markdown",
      "metadata": {
        "id": "pneyzueaganf"
      },
      "source": [
        "# Component specification\n",
        "# http://lcapy.elec.canterbury.ac.nz/netlists.html#netlists"
      ]
    },
    {
      "cell_type": "code",
      "metadata": {
        "id": "EYyZ2LWzganf"
      },
      "source": [
        "cct = Circuit(\"\"\"\n",
        "V1 1 0 Vs\n",
        "R1 1 2\n",
        "L1 2 0 \"\"\")\n",
        "cct2 = cct.subs({'Vs': 10, 'R1':10,'L1': 3})\n",
        "cct2"
      ],
      "execution_count": null,
      "outputs": []
    },
    {
      "cell_type": "code",
      "metadata": {
        "id": "viYONKnLganf"
      },
      "source": [
        "# Replace\n",
        "cct = Circuit(\"\"\"\n",
        "V1 1 0 Vs\n",
        "R1 1 2\n",
        "L1 2 0\"\"\")\n",
        "cct2 = cct.replace('L1', 'C1 2 0')\n",
        "cct2"
      ],
      "execution_count": null,
      "outputs": []
    },
    {
      "cell_type": "code",
      "metadata": {
        "id": "lFH6GjIygang"
      },
      "source": [
        "# Mechanical Example\n",
        "a = Circuit(\"\"\"\n",
        "k 1 2; right\n",
        "r 2 3; right\n",
        "m 3 4; right\"\"\")\n",
        "Z = a.impedance(1, 4)\n",
        "Z(s).partfrac()"
      ],
      "execution_count": null,
      "outputs": []
    },
    {
      "cell_type": "code",
      "metadata": {
        "id": "ZGqqizO9gang"
      },
      "source": [
        "from lcapy import Circuit\n",
        "\n",
        "cct = Circuit(\"\"\"\n",
        "V 1 0 step 20\n",
        "R 1 2 10\n",
        "C 2 0 1e-4\n",
        "\"\"\")\n",
        "\n",
        "vc = cct.C.v\n",
        "\n",
        "import numpy as np\n",
        "t = np.linspace(0, 0.01, 1000)\n",
        "\n",
        "from matplotlib.pyplot import subplots, savefig\n",
        "fig, ax = subplots(1)\n",
        "vc.plot(t, axes=ax)"
      ],
      "execution_count": null,
      "outputs": []
    },
    {
      "cell_type": "code",
      "metadata": {
        "id": "ORZ1AsRmgang"
      },
      "source": [
        "from lcapy import Circuit\n",
        "cct = Circuit()\n",
        "cct.add('V1 1 0 step 10')\n",
        "cct.add('Ra 1 2 3e3')\n",
        "cct.add('Rb 2 0 1e3')\n"
      ],
      "execution_count": null,
      "outputs": []
    },
    {
      "cell_type": "code",
      "metadata": {
        "id": "xgsdYy5cganh"
      },
      "source": [
        "import schemdraw as schemdraw\n",
        "import schemdraw.elements as elm\n",
        "d = schemdraw.Drawing()\n",
        "d = schemdraw.Drawing()\n",
        "for i, color in enumerate(['red', 'orange', 'yellow', 'yellowgreen', 'green', 'blue', 'indigo', 'violet']):\n",
        "    d += elm.Resistor().theta(45*i+20).color(color).label('R{}'.format(i))\n",
        "d.draw()"
      ],
      "execution_count": null,
      "outputs": []
    },
    {
      "cell_type": "code",
      "metadata": {
        "id": "v1OhSBuXganh"
      },
      "source": [
        "import schemdraw as schemdraw\n",
        "import schemdraw.elements as elm\n",
        "d = schemdraw.Drawing()\n",
        "d.add(elm.Resistor())\n",
        "schemfig = d.draw()\n",
        "schemfig.ax.axvline(.5, color='purple', ls='--')\n",
        "schemfig.ax.axvline(2.5, color='orange', ls='-', lw=3);\n",
        "display(schemfig)"
      ],
      "execution_count": null,
      "outputs": []
    },
    {
      "cell_type": "code",
      "metadata": {
        "id": "uRLvIKEWganh"
      },
      "source": [
        ""
      ],
      "execution_count": null,
      "outputs": []
    },
    {
      "cell_type": "code",
      "metadata": {
        "id": "XPh3MO4Vganh"
      },
      "source": [
        ""
      ],
      "execution_count": null,
      "outputs": []
    },
    {
      "cell_type": "code",
      "metadata": {
        "id": "1lDiLWCSgani"
      },
      "source": [
        ""
      ],
      "execution_count": null,
      "outputs": []
    },
    {
      "cell_type": "code",
      "metadata": {
        "id": "3q9YGZWqgani"
      },
      "source": [
        ""
      ],
      "execution_count": null,
      "outputs": []
    },
    {
      "cell_type": "code",
      "metadata": {
        "id": "oYjNRjPXgani"
      },
      "source": [
        "import matplotlib.pyplot as plt\n",
        "import schemdraw\n",
        "import schemdraw.elements as elm\n",
        "#SchemDraw uses matplotlib inline mode (if you want to see the output, uncomment the next line.)\n",
        "# %matplotlib inline\n",
        "#Generate vector image format for better resolution\n",
        "%config InlineBackend.figure_format = 'svg'\n",
        "# Start drawing by creating a drawing object\n",
        "# d = SchemDraw.Drawing() \n",
        "# For more details, see the following examples or the document\n",
        "\n",
        "#Create a resistor symbol\n",
        "d = schemdraw.Drawing() \n",
        "d.add(elm.RES,label='resistor')\n",
        "d.draw()\n",
        "d.save('ch05_res_sym.svg')\n",
        "\n",
        "#Create a symbol for series-connected resistors\n",
        "d = schemdraw.Drawing() \n",
        "d.add(elm.RES,label='$R_1$')\n",
        "d.add(elm.RES,label='$R_2$')\n",
        "d.draw()\n",
        "d.save('ch05_sres_sym.svg')\n",
        "\n",
        "#Create a symbol for parallel-connected resistors\n",
        "d = schemdraw.Drawing() \n",
        "d.add(elm.LINE,l=3)\n",
        "d.add(elm.RES,d='up',label='$R_1$')\n",
        "d.add(elm.LINE,d='left',l=2)\n",
        "d.push()\n",
        "d.add(elm.RES,d='down',label='$R_2$')\n",
        "d.pop()\n",
        "d.add(elm.LINE,d='left',l=1)\n",
        "d.draw()\n",
        "d.save('ch05_pres_sym.svg')\n",
        "\n",
        "#Create a battery symbol\n",
        "d = schemdraw.Drawing() \n",
        "d.add(elm.Source, label=['+ ','$V_{emf}$',' $-$'])\n",
        "d.draw()\n",
        "d.save('ch05_bat_sym.svg')\n",
        "\n",
        "#Create a battery symbol\n",
        "d = schemdraw.Drawing() \n",
        "d.add(elm.SOURCE_V, label='$V_{emf}$')\n",
        "d.draw()\n",
        "d.save('ch05_sourcev_sym.svg')\n",
        "\n",
        "#Create a capacitor symbol\n",
        "d = schemdraw.Drawing() \n",
        "d.add(elm.CAP,label='capacitor')\n",
        "d.draw()\n",
        "d.save('ch05_cap_sym.svg')\n",
        "\n",
        "#Create an RC series circuit symbol\n",
        "d = schemdraw.Drawing()\n",
        "d.add(elm.SOURCE_V,d='up',label='$V_{emf}$')\n",
        "C1=d.add(elm.CAP,d='right',label='C',l=5,reverse=True)\n",
        "d.labelI_inline(C1,'$I$',d='in',start=True)\n",
        "d.add(elm.RES,d='down',label='R')\n",
        "d.add(elm.SWITCH_SPST,d='left',label='S',l=5)\n",
        "d.draw()\n",
        "d.save('ch05_s_rc_sym.svg')\n",
        "\n",
        "#Create an RC parallel circuit symbol\n",
        "d = schemdraw.Drawing()\n",
        "d.add(elm.SOURCE_V,d='up',label='$V_{emf}$')\n",
        "d.add(elm.RES,d='right',l=3,label='$R_1$')\n",
        "d.push()\n",
        "d.add(elm.CAP,d='down',label='C')\n",
        "d.pop()\n",
        "d.add(elm.LINE,d='right',l=2)\n",
        "d.add(elm.RES,d='down',label='$R_2$')\n",
        "d.add(elm.LINE,d='left',l=2)\n",
        "d.add(elm.SWITCH_SPST,label='S')\n",
        "d.draw()\n",
        "d.save('ch05_p_rc_sym.svg')\n",
        "\n",
        "#Create a resistor network circuit\n",
        "d = schemdraw.Drawing()\n",
        "d.add(elm.SOURCE_V,d='up',label='$5V$')\n",
        "d.add(elm.DOT,label='$V_1$')\n",
        "R1=d.add(elm.RES,d='right',botlabel='2$\\Omega$')\n",
        "d.add(elm.DOT,label='$V_2$')\n",
        "d.push()\n",
        "R2=d.add(elm.RES,d='down',label='3$\\Omega$')\n",
        "d.pop()\n",
        "d.add(elm.LINE,d='right',l=2)\n",
        "d.add(elm.RES,d='down',label='5$\\Omega$')\n",
        "d.add(elm.LINE,d='left',l=2)\n",
        "d.add(elm.DOT,botlabel='$V_3=0$')\n",
        "d.add(elm.LINE,d='left',l=3)\n",
        "d.draw()\n",
        "#d.save('ch05_rnetwork_sym.svg')"
      ],
      "execution_count": null,
      "outputs": []
    },
    {
      "cell_type": "code",
      "metadata": {
        "id": "GgJUYMVzgani"
      },
      "source": [
        "d = schemdraw.Drawing(fontsize=12)\n",
        "x = d.add(elm.Transformer(t1=4, t2=8)\n",
        "          .tap(name='B', pos=3, side='secondary'))\n",
        "d.add(elm.Line().at(x.s1).length(d.unit/4).label('s1', 'rgt').color('blue'))\n",
        "d.add(elm.Line().at(x.s2).length(d.unit/4).label('s2', 'rgt').color('blue'))\n",
        "d.add(elm.Line().at(x.p1).length(d.unit/4).left().label('p1', 'lft').color('blue'))\n",
        "d.add(elm.Line().at(x.p2).length(d.unit/4).left().label('p2', 'lft').color('blue'))\n",
        "d.add(elm.Line().at(x.B).length(d.unit/4).right().label('B', 'rgt').color('blue'))\n",
        "d.draw()"
      ],
      "execution_count": null,
      "outputs": []
    },
    {
      "cell_type": "code",
      "metadata": {
        "id": "Z18MTCDNgani"
      },
      "source": [
        "JK = elm.Ic(pins=[elm.IcPin(name='>', pin='1', side='left'),\n",
        "                  elm.IcPin(name='K', pin='16', side='left'),\n",
        "                  elm.IcPin(name='J', pin='4', side='left'),\n",
        "                  elm.IcPin(name='$\\overline{Q}$', pin='14', side='right', anchorname='QBAR'),\n",
        "                  elm.IcPin(name='Q', pin='15', side='right')],\n",
        "            edgepadW = .5,  # Make it a bit wider\n",
        "            pinspacing=1).label('HC7476', 'bottom', fontsize=12)\n",
        "display(JK)"
      ],
      "execution_count": null,
      "outputs": []
    },
    {
      "cell_type": "code",
      "metadata": {
        "id": "Lcq5-HT2ganj"
      },
      "source": [
        "!pip install PyLTSpice"
      ],
      "execution_count": null,
      "outputs": []
    },
    {
      "cell_type": "code",
      "metadata": {
        "id": "Hgs0g_z7ganj"
      },
      "source": [
        "pip install --upgrade PyLTSpice"
      ],
      "execution_count": null,
      "outputs": []
    },
    {
      "cell_type": "code",
      "metadata": {
        "id": "bCTLHCyGganj"
      },
      "source": [
        "!pip install ltspice"
      ],
      "execution_count": null,
      "outputs": []
    },
    {
      "cell_type": "code",
      "metadata": {
        "id": "OaHgbpYKganj"
      },
      "source": [
        "import ltspice\n",
        "import matplotlib.pyplot as plt\n",
        "import numpy as np\n",
        "import os\n",
        "\n",
        "l = ltspice.Ltspice(os.path.dirname(__file__)+'\\\\rectifier.raw') \n",
        "# Make sure that the .raw file is located in the correct path\n",
        "l.parse() \n",
        "\n",
        "time = l.get_time()\n",
        "V_source = l.get_data('V(source)')\n",
        "V_cap_max = []\n",
        "\n",
        "plt.plot(time, V_source)\n",
        "for i in range(l.case_count): # Iteration in simulation cases \n",
        "    time = l.get_time(i)\n",
        "    # Case number starts from zero\n",
        "    # Each case has different time point numbers\n",
        "    V_cap = l.get_data('V(cap,pgnd)',i)\n",
        "    V_cap_max.append(max(V_cap))\n",
        "    plt.plot(time, V_cap)\n",
        "\n",
        "print(V_cap_max)\n",
        "\n",
        "plt.xlim((0, 1e-3))\n",
        "plt.ylim((-15, 15))\n",
        "plt.grid()\n",
        "plt.show()\n"
      ],
      "execution_count": null,
      "outputs": []
    },
    {
      "cell_type": "code",
      "metadata": {
        "id": "fbh-0irMganq"
      },
      "source": [
        "import PySpice.Logging.Logging as Logging\n",
        "logger = Logging.setup_logging()\n",
        "\n",
        "\n",
        "from PySpice.Spice.Netlist import Circuit, SubCircuitFactory\n",
        "from PySpice.Unit import *\n",
        "\n",
        "\n",
        "class SubCircuit1(SubCircuitFactory):\n",
        "    __name__ = 'sub_circuit1'\n",
        "    __nodes__ = ('n1', 'n2')\n",
        "    def __init__(self):\n",
        "        super().__init__()\n",
        "        self.R(1, 'n1', 'n2', 1@u_Ω)\n",
        "        self.R(2, 'n1', 'n2', 2@u_Ω)"
      ],
      "execution_count": null,
      "outputs": []
    },
    {
      "cell_type": "code",
      "metadata": {
        "id": "TeUedF8Kganr"
      },
      "source": [
        "circuit = Circuit('Test')"
      ],
      "execution_count": null,
      "outputs": []
    },
    {
      "cell_type": "code",
      "metadata": {
        "id": "HnWxB3wQganr"
      },
      "source": [
        "C1 = circuit.C(1, 0, 1, 1@u_uF)\n",
        "\n",
        "circuit.C(2, 1, 2, 2@u_uF)\n",
        "circuit.subcircuit(SubCircuit1())\n",
        "circuit.X('1', 'sub_circuit1', 2, 0)"
      ],
      "execution_count": null,
      "outputs": []
    },
    {
      "cell_type": "code",
      "metadata": {
        "id": "pOHdg0Wtganr"
      },
      "source": [
        "C1 = circuit.C1\n",
        "C1 = circuit['C1']"
      ],
      "execution_count": null,
      "outputs": []
    },
    {
      "cell_type": "code",
      "metadata": {
        "id": "TaXU2CIBganr"
      },
      "source": [
        "C1.capacitance = 10@u_F"
      ],
      "execution_count": null,
      "outputs": []
    },
    {
      "cell_type": "code",
      "metadata": {
        "id": "4_lvqLvsgans"
      },
      "source": [
        "print(circuit) # str(circuit) is implicit here"
      ],
      "execution_count": null,
      "outputs": []
    },
    {
      "cell_type": "code",
      "metadata": {
        "id": "NsmrXUqugans"
      },
      "source": [
        "!pip install pint"
      ],
      "execution_count": null,
      "outputs": []
    },
    {
      "cell_type": "code",
      "metadata": {
        "id": "l7Xej59tgans"
      },
      "source": [
        ""
      ],
      "execution_count": null,
      "outputs": []
    },
    {
      "cell_type": "code",
      "metadata": {
        "id": "XVlaz5Mrgans"
      },
      "source": [
        ""
      ],
      "execution_count": null,
      "outputs": []
    },
    {
      "cell_type": "code",
      "metadata": {
        "id": "DK5TQ82ngans"
      },
      "source": [
        "import PySpice.Logging.Logging as Logging\n",
        "logger = Logging.setup_logging()\n",
        "\n",
        "\n",
        "from PySpice.Spice.Netlist import Circuit\n",
        "\n",
        "\n",
        "from PySpice.Unit import *\n",
        "\n",
        "foo = kilo(1) # unit less\n",
        "\n",
        "resistance_unit = U_Ω\n",
        "\n",
        "resistance1 = u_kΩ(1)\n",
        "resistance1 = u_kOhm(1) # ASCII variant\n",
        "\n",
        "resistance1 = 1@u_kΩ   # using Python 3.5 syntax\n",
        "resistance1 = 1 @u_kΩ  # space doesn't matter\n",
        "resistance1 = 1 @ u_kΩ #\n",
        "\n",
        "resistance2 = as_Ω(resistance1) # check unit\n",
        "\n",
        "resistances = u_kΩ(range(1, 11)) # same as [u_kΩ(x) for x in range(1, 11)]\n",
        "resistances = range(1, 11)@u_kΩ  # using Python 3.5 syntax\n",
        "\n",
        "capacitance = u_uF(200)\n",
        "inductance = u_mH(1)\n",
        "temperature = u_Degree(25)\n",
        "\n",
        "voltage = resistance1 * u_mA(1) # compute unit\n",
        "\n",
        "frequency = u_ms(20).frequency\n",
        "period = u_Hz(50).period\n",
        "pulsation = frequency.pulsation\n",
        "pulsation = period.pulsation\n",
        "\n",
        "\n",
        "circuit = Circuit('Resistor Bridge')\n",
        "\n",
        "resistance = 10@u_kΩ\n",
        "print(float(resistance))\n",
        "print(str(resistance))\n",
        "\n",
        "circuit.V('input', 1, circuit.gnd, 10@u_V)\n",
        "circuit.R(1, 1, 2, 2@u_kΩ)\n",
        "circuit.R(2, 1, 3, 1@u_kΩ)\n",
        "circuit.R(3, 2, circuit.gnd, 1@u_kΩ)\n",
        "circuit.R(4, 3, circuit.gnd, 2@u_kΩ)\n",
        "circuit.R(5, 3, 2, 2@u_kΩ)\n",
        "\n",
        "print(circuit)\n",
        "\n",
        "\n",
        "import pint\n",
        "u = pint.UnitRegistry()\n",
        "\n",
        "resistance = 10*u.kΩ\n",
        "# print(float(resistance))\n",
        "print(resistance.magnitude)\n",
        "print(resistance.m)\n",
        "print(resistance.units)\n",
        "print(str(resistance))\n",
        "\n",
        "circuit = Circuit('Resistor Bridge')\n",
        "\n",
        "circuit.V('input', 1, circuit.gnd, 10*u.V)\n",
        "circuit.R(1, 1, 2, 2*u.kΩ)\n",
        "circuit.R(2, 1, 3, 1*u.kΩ)\n",
        "circuit.R(3, 2, circuit.gnd, 1*u.kΩ)\n",
        "circuit.R(4, 3, circuit.gnd, 2*u.kΩ)\n",
        "circuit.R(5, 3, 2, 2*u.kΩ)\n",
        "print(circuit)\n"
      ],
      "execution_count": null,
      "outputs": []
    },
    {
      "cell_type": "code",
      "metadata": {
        "id": "UxO8xzCAgant"
      },
      "source": [
        "####################################################################################################\n",
        "\n",
        "import numpy as np\n",
        "import matplotlib.pyplot as plt\n",
        "plt.style.use('fivethirtyeight')\n",
        "\n",
        "####################################################################################################\n",
        "\n",
        "import PySpice.Physics.PhysicalConstants as Cst\n",
        "\n",
        "####################################################################################################\n",
        "\n",
        "class ShockleyDiode:\n",
        "\n",
        "    \"\"\" This class provides an implementation of the Shockley Diode Model.\n",
        "    \"\"\"\n",
        "\n",
        "    ##############################################\n",
        "\n",
        "    def __init__(self,\n",
        "                 Is=10e-12, # 10 pA\n",
        "                 n=1,\n",
        "                 degree=25, kelvin=None):\n",
        "\n",
        "        self.Is = Is # reverse bias saturation current\n",
        "        self.n = n # ideality factor or emission coefficient\n",
        "        self.T = Cst.temperature(degree=degree, kelvin=kelvin)\n",
        "\n",
        "    ##############################################\n",
        "\n",
        "    @property\n",
        "    def Vt(self):\n",
        "        \"\"\" Thermal Voltage \"\"\"\n",
        "        return Cst.kT(kelvin=self.T) / Cst.q\n",
        "\n",
        "    ##############################################\n",
        "\n",
        "    def I(self, Vd):\n",
        "        return self.Is*(np.exp(Vd/(self.n*self.Vt)) - 1)\n",
        "\n",
        "    ##############################################\n",
        "\n",
        "    def rd(self, Vd):\n",
        "        \"\"\" Dynamic resistance defined by dVd/dI. \"\"\"\n",
        "        return self.n*self.Vt/self.I(Vd)"
      ],
      "execution_count": null,
      "outputs": []
    },
    {
      "cell_type": "code",
      "metadata": {
        "id": "WRCQCP7bgant"
      },
      "source": [
        "x=np.linspace(0,.1,100)\n",
        "y=[ShockleyDiode().I(i) for i in x]\n",
        "plt.figure(figsize=(12,8))\n",
        "plt.plot(x,y,label='V vs. I')\n",
        "plt.xlabel('V')\n",
        "plt.ylabel('I(V)')\n",
        "plt.title('ShockLey Diode Characteristics')\n",
        "plt.legend()\n",
        "plt.show()"
      ],
      "execution_count": null,
      "outputs": []
    },
    {
      "cell_type": "code",
      "metadata": {
        "id": "RZua27Nuganu"
      },
      "source": [
        "# Capacitor Network\n",
        "import schemdraw\n",
        "import schemdraw.elements as elm\n",
        "import numpy as np\n",
        "import matplotlib.pyplot as plt\n",
        "plt.style.use('fivethirtyeight')\n",
        "d = schemdraw.Drawing(fontsize=12)\n",
        "d += (A := elm.Dot().label('a'))\n",
        "d += (C1 := elm.Capacitor().label('1μF'))\n",
        "d += (C2 := elm.Capacitor().label('18μF'))\n",
        "d += (C3 := elm.Capacitor().down().label('8μF', loc='bottom'))\n",
        "d += (C4 := elm.Capacitor().left().label('30μF'))\n",
        "d += (C5 := elm.Capacitor().label('4μF', loc='bottom'))\n",
        "d += (B := elm.Dot().label('b'))\n",
        "d += (C6 := elm.Capacitor().endpoints(C1.end, C5.start).label('3μF'))\n",
        "d += (C7 := elm.Capacitor().endpoints(C2.end, C5.start)\n",
        "      .label('6μF', loc='center', ofst=(-.3, -.1), halign='right', valign='bottom'))\n",
        "d.draw()"
      ],
      "execution_count": null,
      "outputs": []
    },
    {
      "cell_type": "code",
      "metadata": {
        "id": "QCQE8600ganu"
      },
      "source": [
        "import schemdraw\n",
        "import schemdraw.elements as elm\n",
        "import numpy as np\n",
        "import matplotlib.pyplot as plt\n",
        "d = schemdraw.Drawing(unit=2)  # unit=2 makes elements have shorter than normal leads\n",
        "d.push()\n",
        "d += (R1 := elm.Resistor().down().label('20Ω'))\n",
        "d += (V1 := elm.SourceV().down().reverse().label('120V'))\n",
        "d += elm.Line().right().length(3)\n",
        "d += elm.Dot()\n",
        "d.pop()\n",
        "d += elm.Line().right().length(3)\n",
        "d += elm.Dot()\n",
        "d += elm.SourceV().down().reverse().label('60V')\n",
        "d += elm.Resistor().label('5Ω')\n",
        "d += elm.Dot()\n",
        "d += elm.LineDot().right().length(3)\n",
        "d += elm.SourceI().up().label('36A')\n",
        "d += elm.Resistor().label('10Ω')\n",
        "d += elm.Dot()\n",
        "d += elm.Line().left().length(3).hold()\n",
        "d += elm.Line().right().length(3)\n",
        "d += elm.Dot()\n",
        "d += (R6 := elm.Resistor().down().toy(V1.end).label('6Ω'))\n",
        "d += elm.Dot()\n",
        "d += elm.Line().left().length(3).hold()\n",
        "d += elm.Resistor().right().at(R6.start).label('1.6Ω')\n",
        "d += elm.Dot().label('a')\n",
        "d += elm.Line().right().at(R6.end)\n",
        "d += elm.Dot().label('b')\n",
        "d.draw()"
      ],
      "execution_count": null,
      "outputs": []
    },
    {
      "cell_type": "code",
      "metadata": {
        "id": "i-tEOHXEganu"
      },
      "source": [
        "# Loop Currents\n",
        "d = schemdraw.Drawing(unit=5)\n",
        "d += (V1 := elm.SourceV().label('20V'))\n",
        "d += (R1 := elm.Resistor().right().label('400Ω'))\n",
        "d += elm.Dot()\n",
        "d.push()\n",
        "d += (R2 := elm.Resistor().down().label('100Ω', loc='bot', rotate=True))\n",
        "d += elm.Dot()\n",
        "d.pop()\n",
        "d += (L1 := elm.Line())\n",
        "d += (I1 := elm.SourceI().down().label('1A', loc='bot'))\n",
        "d += (L2 := elm.Line().left().tox(V1.start))\n",
        "d.loopI([R1,R2,L2,V1], '$I_1$', pad=1.25)\n",
        "d.loopI([R1,I1,L2,R2], '$I_2$', pad=1.25)  # Use R1 as top element for both so they get the same height\n",
        "d.draw()"
      ],
      "execution_count": null,
      "outputs": []
    },
    {
      "cell_type": "code",
      "metadata": {
        "id": "heY6qXA_ganv"
      },
      "source": [
        ""
      ],
      "execution_count": null,
      "outputs": []
    },
    {
      "cell_type": "code",
      "metadata": {
        "id": "uQZR8D_lganw"
      },
      "source": [
        "\n",
        "        "
      ],
      "execution_count": null,
      "outputs": []
    },
    {
      "cell_type": "code",
      "metadata": {
        "id": "2laFYg_8ganw"
      },
      "source": [
        ""
      ],
      "execution_count": null,
      "outputs": []
    },
    {
      "cell_type": "code",
      "metadata": {
        "id": "RRA2NTozganw"
      },
      "source": [
        "import matplotlib\n",
        "matplotlib.use('TkAgg')\n",
        "\n",
        "from numpy import arange, sin, pi\n",
        "from matplotlib.backends.backend_tkagg import FigureCanvasTkAgg\n",
        "# implement the default mpl key bindings\n",
        "from matplotlib.backend_bases import key_press_handler\n",
        "\n",
        "\n",
        "from matplotlib.figure import Figure\n",
        "\n",
        "import sys\n",
        "if sys.version_info[0] < 3:\n",
        "    import Tkinter as Tk\n",
        "else:\n",
        "    import tkinter as Tk\n",
        "\n",
        "root = Tk.Tk()\n",
        "root.wm_title(\"Embedding in TK\")\n",
        "\n",
        "\n",
        "f = Figure(figsize=(5, 4), dpi=100)\n",
        "a = f.add_subplot(111)\n",
        "t = arange(0.0, 3.0, 0.01)\n",
        "s = sin(2*pi*t)**2\n",
        "\n",
        "a.plot(t, s)\n",
        "\n",
        "\n",
        "# a tk.DrawingArea\n",
        "canvas = FigureCanvasTkAgg(f, master=root)\n",
        "#canvas.show()\n",
        "canvas.get_tk_widget().pack(side=Tk.TOP, fill=Tk.BOTH, expand=1)\n",
        "\n",
        "#toolbar = NavigationToolbar2TkAgg(canvas, root)\n",
        "#toolbar.update()\n",
        "canvas._tkcanvas.pack(side=Tk.TOP, fill=Tk.BOTH, expand=1)\n",
        "\n",
        "\n",
        "def on_key_event(event):\n",
        "    print('you pressed %s' % event.key)\n",
        "    key_press_handler(event, canvas, toolbar)\n",
        "\n",
        "canvas.mpl_connect('key_press_event', on_key_event)\n",
        "\n",
        "\n",
        "def _quit():\n",
        "    root.quit()     # stops mainloop\n",
        "    root.destroy()  # this is necessary on Windows to prevent\n",
        "                    # Fatal Python Error: PyEval_RestoreThread: NULL tstate\n",
        "\n",
        "button = Tk.Button(master=root, text='Quit', command=_quit)\n",
        "button.pack(side=Tk.BOTTOM)\n",
        "\n",
        "Tk.mainloop()\n",
        "# If you put root.destroy() here, it will cause an error if\n",
        "# the window is closed with the window manager."
      ],
      "execution_count": null,
      "outputs": []
    },
    {
      "cell_type": "code",
      "metadata": {
        "id": "0440Eq-rganx"
      },
      "source": [
        "import numpy as np\n",
        "import schemdraw.elements as e\n",
        "\n",
        "\n",
        "LOW_PASS = {\n",
        "    'name': 'LOW_PASS',\n",
        "    'base': e.RBOX,\n",
        "    'paths': [[[0.15, 0.05],\n",
        "               [0.6, 0.05],\n",
        "               [0.8, -.15]]]\n",
        "}\n",
        "\n",
        "# Single port amplifier\n",
        "AMP = {'name': 'AMP',\n",
        "       'paths': [[[0, 0],\n",
        "                  [np.nan, np.nan],\n",
        "                  [0.7, 0]]],\n",
        "       'anchors': {'center': [2, 0]},\n",
        "       'shapes': [{'shape': 'poly', 'xy': np.array([[0.,  0.5],\n",
        "                                                    [0.7,  0.],\n",
        "                                                    [0., -0.5]]), 'fill': False}]}\n",
        "\n",
        "\n",
        "dircoup_w = 2\n",
        "dircoup_h = .5\n",
        "h_offset = 0.01\n",
        "\n",
        "dx = .07\n",
        "dy = .07\n",
        "\n",
        "# Directional coupler\n",
        "DIR_COUP = {\n",
        "    'name': 'DIR_COUP',\n",
        "    'paths': [[[0, h_offset], [0, dircoup_h], [dircoup_w, dircoup_h], [dircoup_w, -dircoup_h],\n",
        "               [0, -dircoup_h], [0, h_offset],  [dircoup_w, h_offset]\n",
        "               ]],\n",
        "\n",
        "    'shapes': [{'shape': 'arc',\n",
        "                'center': [dircoup_w*.9, -dircoup_h],\n",
        "                'theta1':90, 'theta2':180,\n",
        "                'width':1, 'height':1,  # 'angle':0,\n",
        "                },\n",
        "               {'shape': 'arc',\n",
        "                'center': [dircoup_w*.1, -dircoup_h],\n",
        "                'theta1':0, 'theta2':90,\n",
        "                'width':1, 'height':1,  # 'angle':0,\n",
        "                },\n",
        "               {'shape': 'poly',\n",
        "                'xy': [[dircoup_w*.333-dx, -dircoup_h-dy],\n",
        "                       [dircoup_w*.333+dx, -dircoup_h-dy],\n",
        "                       [dircoup_w*.333+dx, -dircoup_h+dy],\n",
        "                       [dircoup_w*.333-dx, -dircoup_h+dy]],\n",
        "                'fill': True,\n",
        "                'fillcolor':'black'\n",
        "                },\n",
        "               {'shape': 'poly',\n",
        "                'xy': [[dircoup_w*.666-dx, -dircoup_h-dy],\n",
        "                       [dircoup_w*.666+dx, -dircoup_h-dy],\n",
        "                       [dircoup_w*.666+dx, -dircoup_h+dy],\n",
        "                       [dircoup_w*.666-dx, -dircoup_h+dy]],\n",
        "                'fill': True,\n",
        "                'fillcolor':'black'\n",
        "                },\n",
        "               {'shape': 'poly',\n",
        "                'xy': [[0-dx, h_offset-dy], [0+dx, h_offset-dy],\n",
        "                       [0+dx, h_offset+dy], [0-dx, h_offset+dy]],\n",
        "                'fill': True,\n",
        "                'fillcolor':'black'\n",
        "                },\n",
        "               {'shape': 'poly',\n",
        "                'xy': [[dircoup_w-dx, h_offset-dy],\n",
        "                       [dircoup_w+dx, h_offset-dy],\n",
        "                       [dircoup_w+dx, h_offset+dy],\n",
        "                       [dircoup_w-dx, h_offset+dy]],\n",
        "                'fill': True,\n",
        "                'fillcolor':'black'\n",
        "                },\n",
        "               ]\n",
        "}\n",
        "\n",
        "\n",
        "IQMIXER = {\n",
        "    'name': 'IQMIXER',\n",
        "    'base': e.SOURCE,\n",
        "    'paths': [[[-.35+dx, -.35], [.35+dx, .35],\n",
        "               [np.nan, np.nan],\n",
        "               [.35+dx, -.35], [-.35+dx, .35],\n",
        "               [np.nan, np.nan],\n",
        "               [0.5, -1], [0.5, -.50],\n",
        "               [np.nan, np.nan],\n",
        "               [0.5, .5], [0.5, 1],\n",
        "               ]]\n",
        "}\n",
        "\n",
        "h=.65\n",
        "CIRCULATOR = {\n",
        "    'name'  : 'CIRCULATOR',\n",
        "    'base'  : e.SOURCE,\n",
        "    'shapes':[{'shape':'arc', 'center':[.5,0],\n",
        "             'width':h, 'height':h, 'theta1':130, 'theta2':320, 'arrow':'ccw'}],# 'arrow':'cw'}\n",
        "    }"
      ],
      "execution_count": null,
      "outputs": []
    },
    {
      "cell_type": "code",
      "metadata": {
        "id": "8R6BRby2ganz"
      },
      "source": [
        "CIRCULATOR"
      ],
      "execution_count": null,
      "outputs": []
    },
    {
      "cell_type": "code",
      "metadata": {
        "id": "bHKBx_Ihganz"
      },
      "source": [
        ""
      ],
      "execution_count": null,
      "outputs": []
    },
    {
      "cell_type": "code",
      "metadata": {
        "id": "P6lcPfPlganz"
      },
      "source": [
        ""
      ],
      "execution_count": null,
      "outputs": []
    },
    {
      "cell_type": "code",
      "metadata": {
        "id": "MDvydFT8gan0"
      },
      "source": [
        "import schemdraw as schem\n",
        "import schemdraw.elements as e\n",
        "d = schem.Drawing()\n",
        "d.add(e.Source,d='down',label='5 V')\n",
        "d.add(e.RES, d='right',label='10K$\\Omega$')\n",
        "d.add(e.CAP, d='down', botlabel='1$\\mu$F')\n",
        "d.draw()"
      ],
      "execution_count": null,
      "outputs": []
    },
    {
      "cell_type": "code",
      "metadata": {
        "id": "SqEE2Hktgan0"
      },
      "source": [
        "import math\n",
        "\n",
        "import numpy as np\n",
        "import matplotlib.pyplot as plt\n",
        "\n",
        "\n",
        "import PySpice.Logging.Logging as Logging\n",
        "logger = Logging.setup_logging()\n",
        "\n",
        "\n",
        "from PySpice.Plot.BodeDiagram import bode_diagram\n",
        "from PySpice.Spice.Netlist import Circuit\n",
        "from PySpice.Unit import *"
      ],
      "execution_count": null,
      "outputs": []
    },
    {
      "cell_type": "code",
      "metadata": {
        "id": "OjGcEGtcgan0"
      },
      "source": [
        ""
      ],
      "execution_count": null,
      "outputs": []
    },
    {
      "cell_type": "code",
      "metadata": {
        "id": "d2yz73cegan0"
      },
      "source": [
        "circuit1 = Circuit('Four double-pole Low-Pass RLC Filter')\n",
        "\n",
        "inductance = 10@u_mH\n",
        "capacitance = 1@u_uF\n",
        "\n",
        "circuit1.SinusoidalVoltageSource('input', 'in', circuit1.gnd, amplitude=1@u_V)\n",
        "# Q = .5\n",
        "circuit1.R(1, 'in', 1, 200@u_Ω)\n",
        "circuit1.L(1, 1, 'out5', inductance)\n",
        "circuit1.C(1, 'out5', circuit1.gnd, capacitance)\n",
        "# Q = 1\n",
        "circuit1.R(2, 'in', 2, 100@u_Ω)\n",
        "circuit1.L(2, 2, 'out1', inductance)\n",
        "circuit1.C(2, 'out1', circuit1.gnd, capacitance)\n",
        "# Q = 2\n",
        "circuit1.R(3, 'in', 3, 50@u_Ω)\n",
        "circuit1.L(3, 3, 'out2', inductance)\n",
        "circuit1.C(3, 'out2', circuit1.gnd, capacitance)\n",
        "# Q = 4\n",
        "R4 = circuit1.R(4, 'in', 4, 25@u_Ω)\n",
        "circuit1.L(4, 4, 'out4', inductance)\n",
        "circuit1.C(4, 'out4', circuit1.gnd, capacitance)"
      ],
      "execution_count": null,
      "outputs": []
    },
    {
      "cell_type": "code",
      "metadata": {
        "id": "b916sKQugan1"
      },
      "source": [
        "resonant_frequency = 1 / (2 * math.pi * math.sqrt(inductance * capacitance))\n",
        "quality_factor = 1 / R4.resistance * math.sqrt(inductance / capacitance)\n",
        "print(\"Resonant frequency = {:.1f} Hz\".format(resonant_frequency))\n",
        "print(\"Factor of quality = {:.1f}\".format(quality_factor))"
      ],
      "execution_count": null,
      "outputs": []
    },
    {
      "cell_type": "code",
      "metadata": {
        "id": "3SqH8glcgan1"
      },
      "source": [
        "import PySpice.Logging.Logging as Logging\n",
        "logger = Logging.setup_logging()\n",
        "\n",
        "\n",
        "from PySpice.Spice.Netlist import Circuit\n",
        "\n",
        "\n",
        "from PySpice.Unit import *\n",
        "\n",
        "foo = kilo(1) # unit less\n",
        "\n",
        "resistance_unit = U_Ω\n",
        "\n",
        "resistance1 = u_kΩ(1)\n",
        "resistance1 = u_kOhm(1) # ASCII variant\n",
        "\n",
        "resistance1 = 1@u_kΩ   # using Python 3.5 syntax\n",
        "resistance1 = 1 @u_kΩ  # space doesn't matter\n",
        "resistance1 = 1 @ u_kΩ #\n",
        "\n",
        "resistance2 = as_Ω(resistance1) # check unit\n",
        "\n",
        "resistances = u_kΩ(range(1, 11)) # same as [u_kΩ(x) for x in range(1, 11)]\n",
        "resistances = range(1, 11)@u_kΩ  # using Python 3.5 syntax\n",
        "\n",
        "capacitance = u_uF(200)\n",
        "inductance = u_mH(1)\n",
        "temperature = u_Degree(25)\n",
        "\n",
        "voltage = resistance1 * u_mA(1) # compute unit\n",
        "\n",
        "frequency = u_ms(20).frequency\n",
        "period = u_Hz(50).period\n",
        "pulsation = frequency.pulsation\n",
        "pulsation = period.pulsation"
      ],
      "execution_count": null,
      "outputs": []
    },
    {
      "cell_type": "code",
      "metadata": {
        "id": "LADAajnbgan1"
      },
      "source": [
        "circuit = Circuit('Resistor Bridge')\n",
        "\n",
        "resistance = 10@u_kΩ\n",
        "print(float(resistance))\n",
        "print(str(resistance))\n",
        "\n",
        "circuit.V('input', 1, circuit.gnd, 10@u_V)\n",
        "circuit.R(1, 1, 2, 2@u_kΩ)\n",
        "circuit.R(2, 1, 3, 1@u_kΩ)\n",
        "circuit.R(3, 2, circuit.gnd, 1@u_kΩ)\n",
        "circuit.R(4, 3, circuit.gnd, 2@u_kΩ)\n",
        "circuit.R(5, 3, 2, 2@u_kΩ)\n",
        "\n",
        "print(circuit)\n",
        "\n",
        "\n",
        "import pint\n",
        "u = pint.UnitRegistry()\n",
        "\n",
        "resistance = 10*u.kΩ\n",
        "# print(float(resistance))\n",
        "print(resistance.magnitude)\n",
        "print(resistance.m)\n",
        "print(resistance.units)\n",
        "print(str(resistance))\n",
        "\n",
        "circuit = Circuit('Resistor Bridge')\n",
        "\n",
        "circuit.V('input', 1, circuit.gnd, 10*u.V)\n",
        "circuit.R(1, 1, 2, 2*u.kΩ)\n",
        "circuit.R(2, 1, 3, 1*u.kΩ)\n",
        "circuit.R(3, 2, circuit.gnd, 1*u.kΩ)\n",
        "circuit.R(4, 3, circuit.gnd, 2*u.kΩ)\n",
        "circuit.R(5, 3, 2, 2*u.kΩ)\n",
        "\n",
        "print(circuit)"
      ],
      "execution_count": null,
      "outputs": []
    },
    {
      "cell_type": "code",
      "metadata": {
        "id": "YNYEPld1gan2"
      },
      "source": [
        "import PySpice.Logging.Logging as Logging\n",
        "logger = Logging.setup_logging()\n",
        "\n",
        "\n",
        "from PySpice.Spice.Netlist import Circuit\n",
        "from PySpice.Unit import *"
      ],
      "execution_count": null,
      "outputs": []
    },
    {
      "cell_type": "code",
      "metadata": {
        "id": "KKlLnpAUgan2"
      },
      "source": [
        "circuit = Circuit('Resistor Bridge')\n",
        "\n",
        "circuit.V('input', 1, circuit.gnd, 10@u_V)\n",
        "circuit.R(1, 1, 2, 2@u_kΩ)\n",
        "circuit.R(2, 1, 3, 1@u_kΩ)\n",
        "circuit.R(3, 2, circuit.gnd, 1@u_kΩ)\n",
        "circuit.R(4, 3, circuit.gnd, 2@u_kΩ)\n",
        "circuit.R(5, 3, 2, 2@u_kΩ)\n",
        "\n"
      ],
      "execution_count": null,
      "outputs": []
    },
    {
      "cell_type": "code",
      "metadata": {
        "id": "dBYlTL5Ggan2"
      },
      "source": [
        "import math\n",
        "\n",
        "import matplotlib.pyplot as plt\n",
        "\n",
        "\n",
        "import PySpice.Logging.Logging as Logging\n",
        "logger = Logging.setup_logging()\n",
        "\n",
        "\n",
        "from PySpice.Probe.Plot import plot\n",
        "from PySpice.Spice.Netlist import Circuit\n",
        "from PySpice.Spice.NgSpice.Shared import NgSpiceShared\n",
        "from PySpice.Unit import *\n",
        "\n",
        "\n",
        "class MyNgSpiceShared(NgSpiceShared):\n",
        "\n",
        "\n",
        "    def __init__(self, amplitude, frequency, **kwargs):\n",
        "\n",
        "        super().__init__(**kwargs)\n",
        "\n",
        "        self._amplitude = amplitude\n",
        "        self._pulsation = float(frequency.pulsation)\n",
        "\n",
        "\n",
        "    def get_vsrc_data(self, voltage, time, node, ngspice_id):\n",
        "        self._logger.debug('ngspice_id-{} get_vsrc_data @{} node {}'.format(ngspice_id, time, node))\n",
        "        voltage[0] = self._amplitude * math.sin(self._pulsation * time)\n",
        "        return 0\n",
        "\n",
        "\n",
        "    def get_isrc_data(self, current, time, node, ngspice_id):\n",
        "        self._logger.debug('ngspice_id-{} get_isrc_data @{} node {}'.format(ngspice_id, time, node))\n",
        "        current[0] = 1.\n",
        "        return 0\n",
        "\n",
        "\n",
        "circuit = Circuit('Voltage Divider')\n"
      ],
      "execution_count": null,
      "outputs": []
    },
    {
      "cell_type": "code",
      "metadata": {
        "id": "D1-YbUSTgan2"
      },
      "source": [
        ""
      ],
      "execution_count": null,
      "outputs": []
    },
    {
      "cell_type": "code",
      "metadata": {
        "id": "ST8lMevugan3"
      },
      "source": [
        "# Enabling the `widget` backend.\n",
        "# This requires jupyter-matplotlib a.k.a. ipympl.\n",
        "# ipympl can be install via pip or conda.\n",
        "%matplotlib widget\n",
        "\n",
        "import matplotlib.pyplot as plt\n",
        "import numpy as np"
      ],
      "execution_count": null,
      "outputs": []
    },
    {
      "cell_type": "code",
      "metadata": {
        "id": "A2mkIMu9gan3"
      },
      "source": [
        "# Testing matplotlib interactions with a simple plot\n",
        "fig = plt.figure()\n",
        "plt.plot(np.sin(np.linspace(0, 20, 100)));"
      ],
      "execution_count": null,
      "outputs": []
    },
    {
      "cell_type": "code",
      "metadata": {
        "id": "pFlkQW4lgan3"
      },
      "source": [
        "fig.canvas.toolbar_visible = False\n",
        "fig.canvas.header_visible = False # Hide the Figure name at the top of the figure"
      ],
      "execution_count": null,
      "outputs": []
    },
    {
      "cell_type": "code",
      "metadata": {
        "id": "piJ4aXe6gan3"
      },
      "source": [
        "fig.canvas.footer_visible = False"
      ],
      "execution_count": null,
      "outputs": []
    },
    {
      "cell_type": "code",
      "metadata": {
        "id": "fMOpy1R_gan4"
      },
      "source": [
        "fig.canvas.resizable = False"
      ],
      "execution_count": null,
      "outputs": []
    },
    {
      "cell_type": "code",
      "metadata": {
        "id": "wN6mabQugan4"
      },
      "source": [
        "# If true then scrolling while the mouse is over the canvas will not move the entire notebook\n",
        "fig.canvas.capture_scroll = True"
      ],
      "execution_count": null,
      "outputs": []
    },
    {
      "cell_type": "code",
      "metadata": {
        "id": "1iEnZm79gan4"
      },
      "source": [
        "fig.canvas.toolbar_visible = True\n",
        "display(fig.canvas)"
      ],
      "execution_count": null,
      "outputs": []
    },
    {
      "cell_type": "code",
      "metadata": {
        "id": "CcZzPnQOgan4"
      },
      "source": [
        "display(fig)"
      ],
      "execution_count": null,
      "outputs": []
    },
    {
      "cell_type": "code",
      "metadata": {
        "id": "M2PfUQuagan5"
      },
      "source": [
        ""
      ],
      "execution_count": null,
      "outputs": []
    },
    {
      "cell_type": "code",
      "metadata": {
        "id": "FY3tUl5ngan5"
      },
      "source": [
        ""
      ],
      "execution_count": null,
      "outputs": []
    },
    {
      "cell_type": "code",
      "metadata": {
        "id": "MeHZJZkOgan5"
      },
      "source": [
        "import numpy as np\n",
        "import matplotlib.pyplot as plt\n",
        "plt.style.use('fivethirtyeight')\n",
        "x=np.linspace(-10,10,1000)\n",
        "y=16*x**2\n",
        "plt.plot(x,y)"
      ],
      "execution_count": null,
      "outputs": []
    },
    {
      "cell_type": "code",
      "metadata": {
        "id": "f6OLw-kMgan5"
      },
      "source": [
        ""
      ],
      "execution_count": null,
      "outputs": []
    },
    {
      "cell_type": "code",
      "metadata": {
        "id": "QBLdodD1gan5"
      },
      "source": [
        ""
      ],
      "execution_count": null,
      "outputs": []
    },
    {
      "cell_type": "code",
      "metadata": {
        "id": "aL-ID4H7gan6"
      },
      "source": [
        "!pip install ltspice"
      ],
      "execution_count": null,
      "outputs": []
    },
    {
      "cell_type": "code",
      "metadata": {
        "id": "VvGt7Tyvgan6"
      },
      "source": [
        ""
      ],
      "execution_count": null,
      "outputs": []
    }
  ]
}